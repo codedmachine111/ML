{
  "nbformat": 4,
  "nbformat_minor": 0,
  "metadata": {
    "colab": {
      "provenance": [],
      "authorship_tag": "ABX9TyNP43siaZ649zZItx/AxI4v",
      "include_colab_link": true
    },
    "kernelspec": {
      "name": "python3",
      "display_name": "Python 3"
    },
    "language_info": {
      "name": "python"
    }
  },
  "cells": [
    {
      "cell_type": "markdown",
      "metadata": {
        "id": "view-in-github",
        "colab_type": "text"
      },
      "source": [
        "<a href=\"https://colab.research.google.com/github/codedmachine111/ML/blob/master/Linear_regression_from_scratch.ipynb\" target=\"_parent\"><img src=\"https://colab.research.google.com/assets/colab-badge.svg\" alt=\"Open In Colab\"/></a>"
      ]
    },
    {
      "cell_type": "markdown",
      "source": [
        "# Linear Regression using Scikit-Learn"
      ],
      "metadata": {
        "id": "hkkGIIbqhFoU"
      }
    },
    {
      "cell_type": "code",
      "execution_count": null,
      "metadata": {
        "id": "Vk0RVlhHq1Vp"
      },
      "outputs": [],
      "source": [
        "import numpy as np\n",
        "import matplotlib.pyplot as plt\n",
        "\n",
        "# Generate random values of X and y\n",
        "X = np.random.randn(100)\n",
        "y = np.random.randn(100)"
      ]
    },
    {
      "cell_type": "code",
      "source": [
        "X[:10],y[:10]"
      ],
      "metadata": {
        "colab": {
          "base_uri": "https://localhost:8080/"
        },
        "id": "WYtqmr-1rbue",
        "outputId": "bcbce245-38f4-4b40-d53f-3d2f5a5a3e50"
      },
      "execution_count": null,
      "outputs": [
        {
          "output_type": "execute_result",
          "data": {
            "text/plain": [
              "(array([-1.33817399, -1.73674074, -1.51038936, -0.31143251,  1.17739505,\n",
              "        -1.30603129, -0.35700407, -3.28817331,  1.43450917, -1.25650686]),\n",
              " array([-0.72409797, -0.10291799,  0.97956539,  0.45145672, -0.11970978,\n",
              "         2.54129916,  1.06044101,  0.89344806, -1.74548379, -0.35943989]))"
            ]
          },
          "metadata": {},
          "execution_count": 216
        }
      ]
    },
    {
      "cell_type": "code",
      "source": [
        "# Scatter plot to visualize the given data\n",
        "plt.scatter(X,y)\n",
        "plt.xlabel(\"X values\")\n",
        "plt.ylabel(\"y values\")\n",
        "plt.title(\"Data visualization\")"
      ],
      "metadata": {
        "colab": {
          "base_uri": "https://localhost:8080/",
          "height": 489
        },
        "id": "t6RygfbAre5Y",
        "outputId": "c14207d2-f725-472d-e56e-16141fc71fc5"
      },
      "execution_count": null,
      "outputs": [
        {
          "output_type": "execute_result",
          "data": {
            "text/plain": [
              "Text(0.5, 1.0, 'Data visualization')"
            ]
          },
          "metadata": {},
          "execution_count": 217
        },
        {
          "output_type": "display_data",
          "data": {
            "text/plain": [
              "<Figure size 640x480 with 1 Axes>"
            ],
            "image/png": "[encoded data removed]"
          },
          "metadata": {}
        }
      ]
    },
    {
      "cell_type": "code",
      "source": [
        "# Split into training and testing sets\n",
        "from sklearn.model_selection import train_test_split\n",
        "\n",
        "X_train, X_test, y_train, y_test = train_test_split(X,y, test_size=0.2, random_state=42)\n",
        "X_train.shape, X_test.shape, y_train.shape, y_test.shape"
      ],
      "metadata": {
        "colab": {
          "base_uri": "https://localhost:8080/"
        },
        "id": "VzsCXnDNrnnN",
        "outputId": "c08d5e20-8e93-456f-a9c5-5c374e67b25d"
      },
      "execution_count": null,
      "outputs": [
        {
          "output_type": "execute_result",
          "data": {
            "text/plain": [
              "((80,), (20,), (80,), (20,))"
            ]
          },
          "metadata": {},
          "execution_count": 218
        }
      ]
    },
    {
      "cell_type": "code",
      "source": [
        "# Reshaping data\n",
        "X_train = X_train.reshape(-1,1)\n",
        "X_train.shape\n",
        "X_test = X_test.reshape(-1,1)\n",
        "X_test.shape"
      ],
      "metadata": {
        "colab": {
          "base_uri": "https://localhost:8080/"
        },
        "id": "8zekvasWtLHk",
        "outputId": "40428f1e-0090-4e41-92a9-b42f1e9d33a9"
      },
      "execution_count": null,
      "outputs": [
        {
          "output_type": "execute_result",
          "data": {
            "text/plain": [
              "(20, 1)"
            ]
          },
          "metadata": {},
          "execution_count": 219
        }
      ]
    },
    {
      "cell_type": "code",
      "source": [
        "X_train[:10]"
      ],
      "metadata": {
        "colab": {
          "base_uri": "https://localhost:8080/"
        },
        "id": "YismKUhmteaZ",
        "outputId": "1c5063a2-9f70-4c51-aaa2-a963d52de49f"
      },
      "execution_count": null,
      "outputs": [
        {
          "output_type": "execute_result",
          "data": {
            "text/plain": [
              "array([[ 0.74877015],\n",
              "       [ 0.00448162],\n",
              "       [ 0.25663484],\n",
              "       [ 0.49735915],\n",
              "       [ 0.89050491],\n",
              "       [-0.53489397],\n",
              "       [ 0.84945496],\n",
              "       [ 0.33079631],\n",
              "       [-1.25650686],\n",
              "       [ 2.46545295]])"
            ]
          },
          "metadata": {},
          "execution_count": 220
        }
      ]
    },
    {
      "cell_type": "code",
      "source": [
        "from sklearn.linear_model import LinearRegression\n",
        "\n",
        "model = LinearRegression()\n",
        "\n",
        "model.fit(X_train, y_train)"
      ],
      "metadata": {
        "colab": {
          "base_uri": "https://localhost:8080/",
          "height": 74
        },
        "id": "ryhGBzRisobO",
        "outputId": "f07d5045-8ef6-46b6-a14c-d48d24df88df"
      },
      "execution_count": null,
      "outputs": [
        {
          "output_type": "execute_result",
          "data": {
            "text/plain": [
              "LinearRegression()"
            ],
            "text/html": [
              "<style>#sk-container-id-9 {color: black;background-color: white;}#sk-container-id-9 pre{padding: 0;}#sk-container-id-9 div.sk-toggleable {background-color: white;}#sk-container-id-9 label.sk-toggleable__label {cursor: pointer;display: block;width: 100%;margin-bottom: 0;padding: 0.3em;box-sizing: border-box;text-align: center;}#sk-container-id-9 label.sk-toggleable__label-arrow:before {content: \"▸\";float: left;margin-right: 0.25em;color: #696969;}#sk-container-id-9 label.sk-toggleable__label-arrow:hover:before {color: black;}#sk-container-id-9 div.sk-estimator:hover label.sk-toggleable__label-arrow:before {color: black;}#sk-container-id-9 div.sk-toggleable__content {max-height: 0;max-width: 0;overflow: hidden;text-align: left;background-color: #f0f8ff;}#sk-container-id-9 div.sk-toggleable__content pre {margin: 0.2em;color: black;border-radius: 0.25em;background-color: #f0f8ff;}#sk-container-id-9 input.sk-toggleable__control:checked~div.sk-toggleable__content {max-height: 200px;max-width: 100%;overflow: auto;}#sk-container-id-9 input.sk-toggleable__control:checked~label.sk-toggleable__label-arrow:before {content: \"▾\";}#sk-container-id-9 div.sk-estimator input.sk-toggleable__control:checked~label.sk-toggleable__label {background-color: #d4ebff;}#sk-container-id-9 div.sk-label input.sk-toggleable__control:checked~label.sk-toggleable__label {background-color: #d4ebff;}#sk-container-id-9 input.sk-hidden--visually {border: 0;clip: rect(1px 1px 1px 1px);clip: rect(1px, 1px, 1px, 1px);height: 1px;margin: -1px;overflow: hidden;padding: 0;position: absolute;width: 1px;}#sk-container-id-9 div.sk-estimator {font-family: monospace;background-color: #f0f8ff;border: 1px dotted black;border-radius: 0.25em;box-sizing: border-box;margin-bottom: 0.5em;}#sk-container-id-9 div.sk-estimator:hover {background-color: #d4ebff;}#sk-container-id-9 div.sk-parallel-item::after {content: \"\";width: 100%;border-bottom: 1px solid gray;flex-grow: 1;}#sk-container-id-9 div.sk-label:hover label.sk-toggleable__label {background-color: #d4ebff;}#sk-container-id-9 div.sk-serial::before {content: \"\";position: absolute;border-left: 1px solid gray;box-sizing: border-box;top: 0;bottom: 0;left: 50%;z-index: 0;}#sk-container-id-9 div.sk-serial {display: flex;flex-direction: column;align-items: center;background-color: white;padding-right: 0.2em;padding-left: 0.2em;position: relative;}#sk-container-id-9 div.sk-item {position: relative;z-index: 1;}#sk-container-id-9 div.sk-parallel {display: flex;align-items: stretch;justify-content: center;background-color: white;position: relative;}#sk-container-id-9 div.sk-item::before, #sk-container-id-9 div.sk-parallel-item::before {content: \"\";position: absolute;border-left: 1px solid gray;box-sizing: border-box;top: 0;bottom: 0;left: 50%;z-index: -1;}#sk-container-id-9 div.sk-parallel-item {display: flex;flex-direction: column;z-index: 1;position: relative;background-color: white;}#sk-container-id-9 div.sk-parallel-item:first-child::after {align-self: flex-end;width: 50%;}#sk-container-id-9 div.sk-parallel-item:last-child::after {align-self: flex-start;width: 50%;}#sk-container-id-9 div.sk-parallel-item:only-child::after {width: 0;}#sk-container-id-9 div.sk-dashed-wrapped {border: 1px dashed gray;margin: 0 0.4em 0.5em 0.4em;box-sizing: border-box;padding-bottom: 0.4em;background-color: white;}#sk-container-id-9 div.sk-label label {font-family: monospace;font-weight: bold;display: inline-block;line-height: 1.2em;}#sk-container-id-9 div.sk-label-container {text-align: center;}#sk-container-id-9 div.sk-container {/* jupyter's `normalize.less` sets `[hidden] { display: none; }` but bootstrap.min.css set `[hidden] { display: none !important; }` so we also need the `!important` here to be able to override the default hidden behavior on the sphinx rendered scikit-learn.org. See: https://github.com/scikit-learn/scikit-learn/issues/21755 */display: inline-block !important;position: relative;}#sk-container-id-9 div.sk-text-repr-fallback {display: none;}</style><div id=\"sk-container-id-9\" class=\"sk-top-container\"><div class=\"sk-text-repr-fallback\"><pre>LinearRegression()</pre><b>In a Jupyter environment, please rerun this cell to show the HTML representation or trust the notebook. <br />On GitHub, the HTML representation is unable to render, please try loading this page with nbviewer.org.</b></div><div class=\"sk-container\" hidden><div class=\"sk-item\"><div class=\"sk-estimator sk-toggleable\"><input class=\"sk-toggleable__control sk-hidden--visually\" id=\"sk-estimator-id-9\" type=\"checkbox\" checked><label for=\"sk-estimator-id-9\" class=\"sk-toggleable__label sk-toggleable__label-arrow\">LinearRegression</label><div class=\"sk-toggleable__content\"><pre>LinearRegression()</pre></div></div></div></div></div>"
            ]
          },
          "metadata": {},
          "execution_count": 221
        }
      ]
    },
    {
      "cell_type": "code",
      "source": [
        "y_pred = model.predict(X_test)"
      ],
      "metadata": {
        "id": "Uh5k8UAntAun"
      },
      "execution_count": null,
      "outputs": []
    },
    {
      "cell_type": "code",
      "source": [
        "y_pred, y_test"
      ],
      "metadata": {
        "colab": {
          "base_uri": "https://localhost:8080/"
        },
        "id": "TwVu79eXtxrY",
        "outputId": "66b63ace-2e94-4672-d881-5bdbe253b72a"
      },
      "execution_count": null,
      "outputs": [
        {
          "output_type": "execute_result",
          "data": {
            "text/plain": [
              "(array([-0.09641201, -0.1180922 , -0.03535677,  0.16836032,  0.01933725,\n",
              "        -0.05360398,  0.04381064,  0.0437628 ,  0.09993864,  0.10465022,\n",
              "         0.16458597,  0.0070197 , -0.06864894,  0.03526861, -0.09579316,\n",
              "        -0.11872032,  0.02106325, -0.02962018,  0.03609974,  0.14984622]),\n",
              " array([ 1.53447331,  1.83872782,  1.41846516,  1.97245856, -1.39412715,\n",
              "        -0.20525145, -0.95342544,  1.15245963,  0.34973349, -0.72409797,\n",
              "        -0.68884508, -0.10198583,  0.04333937, -0.92770334, -0.01773535,\n",
              "        -0.11970978, -0.75449198, -0.55276019,  0.42181736,  0.28567685]))"
            ]
          },
          "metadata": {},
          "execution_count": 223
        }
      ]
    },
    {
      "cell_type": "code",
      "source": [
        "from sklearn.metrics import mean_squared_error\n",
        "\n",
        "mse = mean_squared_error(y_test, y_pred)\n",
        "mse"
      ],
      "metadata": {
        "colab": {
          "base_uri": "https://localhost:8080/"
        },
        "id": "v6AFgsUYuI26",
        "outputId": "9ab582b4-107c-4d86-af90-148271f10a60"
      },
      "execution_count": null,
      "outputs": [
        {
          "output_type": "execute_result",
          "data": {
            "text/plain": [
              "0.9789827343618459"
            ]
          },
          "metadata": {},
          "execution_count": 224
        }
      ]
    },
    {
      "cell_type": "code",
      "source": [
        "print(f'Slope : {model.coef_}')\n",
        "print(f'Intercept : {model.intercept_}')"
      ],
      "metadata": {
        "colab": {
          "base_uri": "https://localhost:8080/"
        },
        "id": "FDMh206rvUm-",
        "outputId": "08da1845-19ab-429e-9cc7-a34d29f8d792"
      },
      "execution_count": null,
      "outputs": [
        {
          "output_type": "stream",
          "name": "stdout",
          "text": [
            "Slope : [-0.08879523]\n",
            "Intercept : -0.014173249227260942\n"
          ]
        }
      ]
    },
    {
      "cell_type": "code",
      "source": [
        "plt.scatter(X_test,y_test, color=\"green\")\n",
        "plt.plot(X_test,y_pred, color=\"blue\")"
      ],
      "metadata": {
        "colab": {
          "base_uri": "https://localhost:8080/",
          "height": 447
        },
        "id": "xXCcqIjEw7de",
        "outputId": "819f0289-6ca6-49f8-9120-0dbc9cf92ce8"
      },
      "execution_count": null,
      "outputs": [
        {
          "output_type": "execute_result",
          "data": {
            "text/plain": [
              "[<matplotlib.lines.Line2D at 0x7ef18464ef20>]"
            ]
          },
          "metadata": {},
          "execution_count": 226
        },
        {
          "output_type": "display_data",
          "data": {
            "text/plain": [
              "<Figure size 640x480 with 1 Axes>"
            ],
            "image/png": "[encoded data removed]"
          },
          "metadata": {}
        }
      ]
    },
    {
      "cell_type": "markdown",
      "source": [
        "## Linear Regression from scratch using custom functions"
      ],
      "metadata": {
        "id": "6Ob-bVAO_Ldr"
      }
    },
    {
      "cell_type": "code",
      "source": [
        "X.shape, y.shape"
      ],
      "metadata": {
        "colab": {
          "base_uri": "https://localhost:8080/"
        },
        "id": "r4vhVk6ljK_g",
        "outputId": "e73123f4-7fe6-4944-e5a5-2a73a03b8ed1"
      },
      "execution_count": null,
      "outputs": [
        {
          "output_type": "execute_result",
          "data": {
            "text/plain": [
              "((100,), (100,))"
            ]
          },
          "metadata": {},
          "execution_count": 228
        }
      ]
    },
    {
      "cell_type": "code",
      "source": [
        "def hypothesis(W0, X, W1):\n",
        "  h = W1*X + W0\n",
        "  return h;"
      ],
      "metadata": {
        "id": "0qkV8JMf8eh6"
      },
      "execution_count": null,
      "outputs": []
    },
    {
      "cell_type": "code",
      "source": [
        "def diffW0(y_pred, y):\n",
        "  diff = y_pred - y\n",
        "  j1 = np.sum(diff) / len(y)\n",
        "  return j1"
      ],
      "metadata": {
        "id": "REZRWTSZ5ZDY"
      },
      "execution_count": null,
      "outputs": []
    },
    {
      "cell_type": "code",
      "source": [
        "def diffW1(y_pred, y, X):\n",
        "  diff = (y_pred - y) * X\n",
        "  j2 = np.sum(diff) / len(y)\n",
        "  return j2"
      ],
      "metadata": {
        "id": "dCaiLp3T7k4Y"
      },
      "execution_count": null,
      "outputs": []
    },
    {
      "cell_type": "code",
      "source": [
        "def gradient_descent(X, y, W0, W1, alpha):\n",
        "\n",
        "  y_pred = hypothesis(W0, X, W1)\n",
        "  W0new = W0 - (alpha * diffW0(y_pred, y))\n",
        "  W1new = W1 - (alpha * diffW1(y_pred, y, X))\n",
        "\n",
        "  return W0new, W1new"
      ],
      "metadata": {
        "id": "7vPaP5Yb5I8r"
      },
      "execution_count": null,
      "outputs": []
    },
    {
      "cell_type": "code",
      "source": [
        "import random\n",
        "Wo = random.randint(1,10)\n",
        "Wi = random.randint(1,10)\n",
        "Wo, Wi"
      ],
      "metadata": {
        "colab": {
          "base_uri": "https://localhost:8080/"
        },
        "id": "029XMTcqfdSb",
        "outputId": "cc6424a2-70d5-4f50-b61b-435c874df2b3"
      },
      "execution_count": null,
      "outputs": [
        {
          "output_type": "execute_result",
          "data": {
            "text/plain": [
              "(1, 2)"
            ]
          },
          "metadata": {},
          "execution_count": 234
        }
      ]
    },
    {
      "cell_type": "code",
      "source": [
        "iterations = 1000\n",
        "for i in range(iterations):\n",
        "  intercept, slope = gradient_descent(X, y, Wo, Wi, 0.1)\n",
        "  Wo = intercept\n",
        "  Wi = slope\n",
        "  if i%10 ==0:\n",
        "    print(f'Iteration: {i} ==> Slope W1: {slope}, Intercept W0: {intercept}')\n",
        "\n",
        "print(slope, intercept)"
      ],
      "metadata": {
        "colab": {
          "base_uri": "https://localhost:8080/"
        },
        "id": "N6CQ6ED5-E87",
        "outputId": "cd00473d-32e3-4135-f85b-5e18b63aecb8"
      },
      "execution_count": null,
      "outputs": [
        {
          "output_type": "stream",
          "name": "stdout",
          "text": [
            "Iteration: 0 ==> Slope W1: 1.8066016725835368, Intercept W0: 0.9358155142481815\n",
            "Iteration: 10 ==> Slope W1: 0.6504731848640346, Intercept W0: 0.4606447040043309\n",
            "Iteration: 20 ==> Slope W1: 0.2218007788298051, Intercept W0: 0.2181246030296844\n",
            "Iteration: 30 ==> Slope W1: 0.05859459606980141, Intercept W0: 0.10471546120239622\n",
            "Iteration: 40 ==> Slope W1: -0.004896104697875953, Intercept W0: 0.05407561719417514\n",
            "Iteration: 50 ==> Slope W1: -0.030014324331109295, Intercept W0: 0.03206668474954453\n",
            "Iteration: 60 ==> Slope W1: -0.04007848080178278, Intercept W0: 0.022660302734234247\n",
            "Iteration: 70 ==> Slope W1: -0.04414868175964779, Intercept W0: 0.018683232665374267\n",
            "Iteration: 80 ==> Slope W1: -0.045805882400734826, Intercept W0: 0.017013590119572475\n",
            "Iteration: 90 ==> Slope W1: -0.04648385466154537, Intercept W0: 0.016315956735655474\n",
            "Iteration: 100 ==> Slope W1: -0.04676215396891112, Intercept W0: 0.016025390988260453\n",
            "Iteration: 110 ==> Slope W1: -0.04687666199586083, Intercept W0: 0.01590463172692119\n",
            "Iteration: 120 ==> Slope W1: -0.04692385441745323, Intercept W0: 0.01585451821793539\n",
            "Iteration: 130 ==> Slope W1: -0.046943326074012665, Intercept W0: 0.015833742772336113\n",
            "Iteration: 140 ==> Slope W1: -0.046951366436946106, Intercept W0: 0.01582513590443892\n",
            "Iteration: 150 ==> Slope W1: -0.046954688323520434, Intercept W0: 0.015821571938687003\n",
            "Iteration: 160 ==> Slope W1: -0.046956061281061355, Intercept W0: 0.015820096639481307\n",
            "Iteration: 170 ==> Slope W1: -0.04695662888047867, Intercept W0: 0.015819486078262987\n",
            "Iteration: 180 ==> Slope W1: -0.04695686357575012, Intercept W0: 0.015819233432931346\n",
            "Iteration: 190 ==> Slope W1: -0.0469569606312574, Intercept W0: 0.015819128901423698\n",
            "Iteration: 200 ==> Slope W1: -0.046957000770839336, Intercept W0: 0.015819085654879484\n",
            "Iteration: 210 ==> Slope W1: -0.04695701737247441, Intercept W0: 0.015819067763914806\n",
            "Iteration: 220 ==> Slope W1: -0.04695702423914708, Intercept W0: 0.015819060362733044\n",
            "Iteration: 230 ==> Slope W1: -0.04695702707937931, Intercept W0: 0.0158190573010655\n",
            "Iteration: 240 ==> Slope W1: -0.04695702825419472, Intercept W0: 0.01581905603455771\n",
            "Iteration: 250 ==> Slope W1: -0.04695702874014421, Intercept W0: 0.015819055510652397\n",
            "Iteration: 260 ==> Slope W1: -0.046957028941153695, Intercept W0: 0.015819055293934715\n",
            "Iteration: 270 ==> Slope W1: -0.04695702902430032, Intercept W0: 0.015819055204288168\n",
            "Iteration: 280 ==> Slope W1: -0.04695702905869368, Intercept W0: 0.015819055167205484\n",
            "Iteration: 290 ==> Slope W1: -0.04695702907292044, Intercept W0: 0.015819055151866112\n",
            "Iteration: 300 ==> Slope W1: -0.04695702907880533, Intercept W0: 0.015819055145520938\n",
            "Iteration: 310 ==> Slope W1: -0.0469570290812396, Intercept W0: 0.01581905514289624\n",
            "Iteration: 320 ==> Slope W1: -0.04695702908224654, Intercept W0: 0.015819055141810524\n",
            "Iteration: 330 ==> Slope W1: -0.04695702908266306, Intercept W0: 0.01581905514136142\n",
            "Iteration: 340 ==> Slope W1: -0.04695702908283536, Intercept W0: 0.01581905514117565\n",
            "Iteration: 350 ==> Slope W1: -0.04695702908290663, Intercept W0: 0.0158190551410988\n",
            "Iteration: 360 ==> Slope W1: -0.04695702908293611, Intercept W0: 0.01581905514106701\n",
            "Iteration: 370 ==> Slope W1: -0.0469570290829483, Intercept W0: 0.01581905514105386\n",
            "Iteration: 380 ==> Slope W1: -0.04695702908295334, Intercept W0: 0.015819055141048425\n",
            "Iteration: 390 ==> Slope W1: -0.04695702908295543, Intercept W0: 0.015819055141046184\n",
            "Iteration: 400 ==> Slope W1: -0.046957029082956285, Intercept W0: 0.015819055141045247\n",
            "Iteration: 410 ==> Slope W1: -0.04695702908295665, Intercept W0: 0.015819055141044855\n",
            "Iteration: 420 ==> Slope W1: -0.0469570290829568, Intercept W0: 0.015819055141044716\n",
            "Iteration: 430 ==> Slope W1: -0.04695702908295687, Intercept W0: 0.015819055141044647\n",
            "Iteration: 440 ==> Slope W1: -0.04695702908295687, Intercept W0: 0.01581905514104461\n",
            "Iteration: 450 ==> Slope W1: -0.046957029082956875, Intercept W0: 0.01581905514104459\n",
            "Iteration: 460 ==> Slope W1: -0.046957029082956875, Intercept W0: 0.01581905514104459\n",
            "Iteration: 470 ==> Slope W1: -0.046957029082956875, Intercept W0: 0.01581905514104459\n",
            "Iteration: 480 ==> Slope W1: -0.046957029082956875, Intercept W0: 0.01581905514104459\n",
            "Iteration: 490 ==> Slope W1: -0.046957029082956875, Intercept W0: 0.01581905514104459\n",
            "Iteration: 500 ==> Slope W1: -0.046957029082956875, Intercept W0: 0.01581905514104459\n",
            "Iteration: 510 ==> Slope W1: -0.046957029082956875, Intercept W0: 0.01581905514104459\n",
            "Iteration: 520 ==> Slope W1: -0.046957029082956875, Intercept W0: 0.01581905514104459\n",
            "Iteration: 530 ==> Slope W1: -0.046957029082956875, Intercept W0: 0.01581905514104459\n",
            "Iteration: 540 ==> Slope W1: -0.046957029082956875, Intercept W0: 0.01581905514104459\n",
            "Iteration: 550 ==> Slope W1: -0.046957029082956875, Intercept W0: 0.01581905514104459\n",
            "Iteration: 560 ==> Slope W1: -0.046957029082956875, Intercept W0: 0.01581905514104459\n",
            "Iteration: 570 ==> Slope W1: -0.046957029082956875, Intercept W0: 0.01581905514104459\n",
            "Iteration: 580 ==> Slope W1: -0.046957029082956875, Intercept W0: 0.01581905514104459\n",
            "Iteration: 590 ==> Slope W1: -0.046957029082956875, Intercept W0: 0.01581905514104459\n",
            "Iteration: 600 ==> Slope W1: -0.046957029082956875, Intercept W0: 0.01581905514104459\n",
            "Iteration: 610 ==> Slope W1: -0.046957029082956875, Intercept W0: 0.01581905514104459\n",
            "Iteration: 620 ==> Slope W1: -0.046957029082956875, Intercept W0: 0.01581905514104459\n",
            "Iteration: 630 ==> Slope W1: -0.046957029082956875, Intercept W0: 0.01581905514104459\n",
            "Iteration: 640 ==> Slope W1: -0.046957029082956875, Intercept W0: 0.01581905514104459\n",
            "Iteration: 650 ==> Slope W1: -0.046957029082956875, Intercept W0: 0.01581905514104459\n",
            "Iteration: 660 ==> Slope W1: -0.046957029082956875, Intercept W0: 0.01581905514104459\n",
            "Iteration: 670 ==> Slope W1: -0.046957029082956875, Intercept W0: 0.01581905514104459\n",
            "Iteration: 680 ==> Slope W1: -0.046957029082956875, Intercept W0: 0.01581905514104459\n",
            "Iteration: 690 ==> Slope W1: -0.046957029082956875, Intercept W0: 0.01581905514104459\n",
            "Iteration: 700 ==> Slope W1: -0.046957029082956875, Intercept W0: 0.01581905514104459\n",
            "Iteration: 710 ==> Slope W1: -0.046957029082956875, Intercept W0: 0.01581905514104459\n",
            "Iteration: 720 ==> Slope W1: -0.046957029082956875, Intercept W0: 0.01581905514104459\n",
            "Iteration: 730 ==> Slope W1: -0.046957029082956875, Intercept W0: 0.01581905514104459\n",
            "Iteration: 740 ==> Slope W1: -0.046957029082956875, Intercept W0: 0.01581905514104459\n",
            "Iteration: 750 ==> Slope W1: -0.046957029082956875, Intercept W0: 0.01581905514104459\n",
            "Iteration: 760 ==> Slope W1: -0.046957029082956875, Intercept W0: 0.01581905514104459\n",
            "Iteration: 770 ==> Slope W1: -0.046957029082956875, Intercept W0: 0.01581905514104459\n",
            "Iteration: 780 ==> Slope W1: -0.046957029082956875, Intercept W0: 0.01581905514104459\n",
            "Iteration: 790 ==> Slope W1: -0.046957029082956875, Intercept W0: 0.01581905514104459\n",
            "Iteration: 800 ==> Slope W1: -0.046957029082956875, Intercept W0: 0.01581905514104459\n",
            "Iteration: 810 ==> Slope W1: -0.046957029082956875, Intercept W0: 0.01581905514104459\n",
            "Iteration: 820 ==> Slope W1: -0.046957029082956875, Intercept W0: 0.01581905514104459\n",
            "Iteration: 830 ==> Slope W1: -0.046957029082956875, Intercept W0: 0.01581905514104459\n",
            "Iteration: 840 ==> Slope W1: -0.046957029082956875, Intercept W0: 0.01581905514104459\n",
            "Iteration: 850 ==> Slope W1: -0.046957029082956875, Intercept W0: 0.01581905514104459\n",
            "Iteration: 860 ==> Slope W1: -0.046957029082956875, Intercept W0: 0.01581905514104459\n",
            "Iteration: 870 ==> Slope W1: -0.046957029082956875, Intercept W0: 0.01581905514104459\n",
            "Iteration: 880 ==> Slope W1: -0.046957029082956875, Intercept W0: 0.01581905514104459\n",
            "Iteration: 890 ==> Slope W1: -0.046957029082956875, Intercept W0: 0.01581905514104459\n",
            "Iteration: 900 ==> Slope W1: -0.046957029082956875, Intercept W0: 0.01581905514104459\n",
            "Iteration: 910 ==> Slope W1: -0.046957029082956875, Intercept W0: 0.01581905514104459\n",
            "Iteration: 920 ==> Slope W1: -0.046957029082956875, Intercept W0: 0.01581905514104459\n",
            "Iteration: 930 ==> Slope W1: -0.046957029082956875, Intercept W0: 0.01581905514104459\n",
            "Iteration: 940 ==> Slope W1: -0.046957029082956875, Intercept W0: 0.01581905514104459\n",
            "Iteration: 950 ==> Slope W1: -0.046957029082956875, Intercept W0: 0.01581905514104459\n",
            "Iteration: 960 ==> Slope W1: -0.046957029082956875, Intercept W0: 0.01581905514104459\n",
            "Iteration: 970 ==> Slope W1: -0.046957029082956875, Intercept W0: 0.01581905514104459\n",
            "Iteration: 980 ==> Slope W1: -0.046957029082956875, Intercept W0: 0.01581905514104459\n",
            "Iteration: 990 ==> Slope W1: -0.046957029082956875, Intercept W0: 0.01581905514104459\n",
            "-0.046957029082956875 0.01581905514104459\n"
          ]
        }
      ]
    },
    {
      "cell_type": "code",
      "source": [
        "slope, intercept"
      ],
      "metadata": {
        "colab": {
          "base_uri": "https://localhost:8080/"
        },
        "id": "pESmXvsHgS8M",
        "outputId": "d5a77899-9dcd-46bf-d53f-1f421da15edb"
      },
      "execution_count": null,
      "outputs": [
        {
          "output_type": "execute_result",
          "data": {
            "text/plain": [
              "(-0.046957029082956875, 0.01581905514104459)"
            ]
          },
          "metadata": {},
          "execution_count": 236
        }
      ]
    },
    {
      "cell_type": "code",
      "source": [
        "y_pred2 = slope * X + intercept\n",
        "print(Wi, Wo)\n",
        "plt.scatter(X, y, color=\"green\")\n",
        "plt.plot(X, y_pred2, color=\"blue\")\n",
        "plt.show()\n"
      ],
      "metadata": {
        "colab": {
          "base_uri": "https://localhost:8080/",
          "height": 447
        },
        "id": "51a8Pojc-raP",
        "outputId": "e8fe490d-5bbd-49ea-fad0-644103025f52"
      },
      "execution_count": null,
      "outputs": [
        {
          "output_type": "stream",
          "name": "stdout",
          "text": [
            "-0.046957029082956875 0.01581905514104459\n"
          ]
        },
        {
          "output_type": "display_data",
          "data": {
            "text/plain": [
              "<Figure size 640x480 with 1 Axes>"
            ],
            "image/png": "[encoded data removed]"
          },
          "metadata": {}
        }
      ]
    }
  ]
}