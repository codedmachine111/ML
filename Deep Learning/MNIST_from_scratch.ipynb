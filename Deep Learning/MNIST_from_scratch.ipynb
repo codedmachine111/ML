{
  "nbformat": 4,
  "nbformat_minor": 0,
  "metadata": {
    "colab": {
      "provenance": [],
      "gpuType": "T4",
      "authorship_tag": "ABX9TyOTBPxq9qb/IBoIWF3Wf0+7",
      "include_colab_link": true
    },
    "kernelspec": {
      "name": "python3",
      "display_name": "Python 3"
    },
    "language_info": {
      "name": "python"
    },
    "accelerator": "GPU"
  },
  "cells": [
    {
      "cell_type": "markdown",
      "metadata": {
        "id": "view-in-github",
        "colab_type": "text"
      },
      "source": [
        "<a href=\"https://colab.research.google.com/github/codedmachine111/ML/blob/master/Deep%20Learning/MNIST_from_scratch.ipynb\" target=\"_parent\"><img src=\"https://colab.research.google.com/assets/colab-badge.svg\" alt=\"Open In Colab\"/></a>"
      ]
    },
    {
      "cell_type": "code",
      "execution_count": null,
      "metadata": {
        "id": "4_8fuNgLyhQI"
      },
      "outputs": [],
      "source": [
        "import numpy as np\n",
        "import pandas as pd\n",
        "import matplotlib.pyplot as plt\n",
        "import math"
      ]
    },
    {
      "cell_type": "code",
      "source": [
        "!pip install opendatasets -q\n",
        "import opendatasets as od\n",
        "od.download('https://www.kaggle.com/competitions/digit-recognizer/data')"
      ],
      "metadata": {
        "colab": {
          "base_uri": "https://localhost:8080/"
        },
        "id": "Vm2dn65Wynp0",
        "outputId": "3665e790-9d63-4017-8c0c-491afb01ab39"
      },
      "execution_count": null,
      "outputs": [
        {
          "output_type": "stream",
          "name": "stdout",
          "text": [
            "Skipping, found downloaded files in \"./digit-recognizer\" (use force=True to force download)\n"
          ]
        }
      ]
    },
    {
      "cell_type": "code",
      "source": [
        "df = pd.read_csv('/content/digit-recognizer/train.csv')\n",
        "df.head()"
      ],
      "metadata": {
        "colab": {
          "base_uri": "https://localhost:8080/",
          "height": 255
        },
        "id": "1_wDXyagzJ6k",
        "outputId": "82f245e0-a86d-4a1f-ec25-93047977a5d7"
      },
      "execution_count": null,
      "outputs": [
        {
          "output_type": "execute_result",
          "data": {
            "text/plain": [
              "   label  pixel0  pixel1  pixel2  pixel3  pixel4  pixel5  pixel6  pixel7  \\\n",
              "0      1       0       0       0       0       0       0       0       0   \n",
              "1      0       0       0       0       0       0       0       0       0   \n",
              "2      1       0       0       0       0       0       0       0       0   \n",
              "3      4       0       0       0       0       0       0       0       0   \n",
              "4      0       0       0       0       0       0       0       0       0   \n",
              "\n",
              "   pixel8  ...  pixel774  pixel775  pixel776  pixel777  pixel778  pixel779  \\\n",
              "0       0  ...         0         0         0         0         0         0   \n",
              "1       0  ...         0         0         0         0         0         0   \n",
              "2       0  ...         0         0         0         0         0         0   \n",
              "3       0  ...         0         0         0         0         0         0   \n",
              "4       0  ...         0         0         0         0         0         0   \n",
              "\n",
              "   pixel780  pixel781  pixel782  pixel783  \n",
              "0         0         0         0         0  \n",
              "1         0         0         0         0  \n",
              "2         0         0         0         0  \n",
              "3         0         0         0         0  \n",
              "4         0         0         0         0  \n",
              "\n",
              "[5 rows x 785 columns]"
            ],
            "text/html": [
              "\n",
              "  <div id=\"df-cdbbc7ce-c5f5-4c8e-827d-9a8c723941df\" class=\"colab-df-container\">\n",
              "    <div>\n",
              "<style scoped>\n",
              "    .dataframe tbody tr th:only-of-type {\n",
              "        vertical-align: middle;\n",
              "    }\n",
              "\n",
              "    .dataframe tbody tr th {\n",
              "        vertical-align: top;\n",
              "    }\n",
              "\n",
              "    .dataframe thead th {\n",
              "        text-align: right;\n",
              "    }\n",
              "</style>\n",
              "<table border=\"1\" class=\"dataframe\">\n",
              "  <thead>\n",
              "    <tr style=\"text-align: right;\">\n",
              "      <th></th>\n",
              "      <th>label</th>\n",
              "      <th>pixel0</th>\n",
              "      <th>pixel1</th>\n",
              "      <th>pixel2</th>\n",
              "      <th>pixel3</th>\n",
              "      <th>pixel4</th>\n",
              "      <th>pixel5</th>\n",
              "      <th>pixel6</th>\n",
              "      <th>pixel7</th>\n",
              "      <th>pixel8</th>\n",
              "      <th>...</th>\n",
              "      <th>pixel774</th>\n",
              "      <th>pixel775</th>\n",
              "      <th>pixel776</th>\n",
              "      <th>pixel777</th>\n",
              "      <th>pixel778</th>\n",
              "      <th>pixel779</th>\n",
              "      <th>pixel780</th>\n",
              "      <th>pixel781</th>\n",
              "      <th>pixel782</th>\n",
              "      <th>pixel783</th>\n",
              "    </tr>\n",
              "  </thead>\n",
              "  <tbody>\n",
              "    <tr>\n",
              "      <th>0</th>\n",
              "      <td>1</td>\n",
              "      <td>0</td>\n",
              "      <td>0</td>\n",
              "      <td>0</td>\n",
              "      <td>0</td>\n",
              "      <td>0</td>\n",
              "      <td>0</td>\n",
              "      <td>0</td>\n",
              "      <td>0</td>\n",
              "      <td>0</td>\n",
              "      <td>...</td>\n",
              "      <td>0</td>\n",
              "      <td>0</td>\n",
              "      <td>0</td>\n",
              "      <td>0</td>\n",
              "      <td>0</td>\n",
              "      <td>0</td>\n",
              "      <td>0</td>\n",
              "      <td>0</td>\n",
              "      <td>0</td>\n",
              "      <td>0</td>\n",
              "    </tr>\n",
              "    <tr>\n",
              "      <th>1</th>\n",
              "      <td>0</td>\n",
              "      <td>0</td>\n",
              "      <td>0</td>\n",
              "      <td>0</td>\n",
              "      <td>0</td>\n",
              "      <td>0</td>\n",
              "      <td>0</td>\n",
              "      <td>0</td>\n",
              "      <td>0</td>\n",
              "      <td>0</td>\n",
              "      <td>...</td>\n",
              "      <td>0</td>\n",
              "      <td>0</td>\n",
              "      <td>0</td>\n",
              "      <td>0</td>\n",
              "      <td>0</td>\n",
              "      <td>0</td>\n",
              "      <td>0</td>\n",
              "      <td>0</td>\n",
              "      <td>0</td>\n",
              "      <td>0</td>\n",
              "    </tr>\n",
              "    <tr>\n",
              "      <th>2</th>\n",
              "      <td>1</td>\n",
              "      <td>0</td>\n",
              "      <td>0</td>\n",
              "      <td>0</td>\n",
              "      <td>0</td>\n",
              "      <td>0</td>\n",
              "      <td>0</td>\n",
              "      <td>0</td>\n",
              "      <td>0</td>\n",
              "      <td>0</td>\n",
              "      <td>...</td>\n",
              "      <td>0</td>\n",
              "      <td>0</td>\n",
              "      <td>0</td>\n",
              "      <td>0</td>\n",
              "      <td>0</td>\n",
              "      <td>0</td>\n",
              "      <td>0</td>\n",
              "      <td>0</td>\n",
              "      <td>0</td>\n",
              "      <td>0</td>\n",
              "    </tr>\n",
              "    <tr>\n",
              "      <th>3</th>\n",
              "      <td>4</td>\n",
              "      <td>0</td>\n",
              "      <td>0</td>\n",
              "      <td>0</td>\n",
              "      <td>0</td>\n",
              "      <td>0</td>\n",
              "      <td>0</td>\n",
              "      <td>0</td>\n",
              "      <td>0</td>\n",
              "      <td>0</td>\n",
              "      <td>...</td>\n",
              "      <td>0</td>\n",
              "      <td>0</td>\n",
              "      <td>0</td>\n",
              "      <td>0</td>\n",
              "      <td>0</td>\n",
              "      <td>0</td>\n",
              "      <td>0</td>\n",
              "      <td>0</td>\n",
              "      <td>0</td>\n",
              "      <td>0</td>\n",
              "    </tr>\n",
              "    <tr>\n",
              "      <th>4</th>\n",
              "      <td>0</td>\n",
              "      <td>0</td>\n",
              "      <td>0</td>\n",
              "      <td>0</td>\n",
              "      <td>0</td>\n",
              "      <td>0</td>\n",
              "      <td>0</td>\n",
              "      <td>0</td>\n",
              "      <td>0</td>\n",
              "      <td>0</td>\n",
              "      <td>...</td>\n",
              "      <td>0</td>\n",
              "      <td>0</td>\n",
              "      <td>0</td>\n",
              "      <td>0</td>\n",
              "      <td>0</td>\n",
              "      <td>0</td>\n",
              "      <td>0</td>\n",
              "      <td>0</td>\n",
              "      <td>0</td>\n",
              "      <td>0</td>\n",
              "    </tr>\n",
              "  </tbody>\n",
              "</table>\n",
              "<p>5 rows × 785 columns</p>\n",
              "</div>\n",
              "    <div class=\"colab-df-buttons\">\n",
              "\n",
              "  <div class=\"colab-df-container\">\n",
              "    <button class=\"colab-df-convert\" onclick=\"convertToInteractive('df-cdbbc7ce-c5f5-4c8e-827d-9a8c723941df')\"\n",
              "            title=\"Convert this dataframe to an interactive table.\"\n",
              "            style=\"display:none;\">\n",
              "\n",
              "  <svg xmlns=\"http://www.w3.org/2000/svg\" height=\"24px\" viewBox=\"0 -960 960 960\">\n",
              "    <path d=\"M120-120v-720h720v720H120Zm60-500h600v-160H180v160Zm220 220h160v-160H400v160Zm0 220h160v-160H400v160ZM180-400h160v-160H180v160Zm440 0h160v-160H620v160ZM180-180h160v-160H180v160Zm440 0h160v-160H620v160Z\"/>\n",
              "  </svg>\n",
              "    </button>\n",
              "\n",
              "  <style>\n",
              "    .colab-df-container {\n",
              "      display:flex;\n",
              "      gap: 12px;\n",
              "    }\n",
              "\n",
              "    .colab-df-convert {\n",
              "      background-color: #E8F0FE;\n",
              "      border: none;\n",
              "      border-radius: 50%;\n",
              "      cursor: pointer;\n",
              "      display: none;\n",
              "      fill: #1967D2;\n",
              "      height: 32px;\n",
              "      padding: 0 0 0 0;\n",
              "      width: 32px;\n",
              "    }\n",
              "\n",
              "    .colab-df-convert:hover {\n",
              "      background-color: #E2EBFA;\n",
              "      box-shadow: 0px 1px 2px rgba(60, 64, 67, 0.3), 0px 1px 3px 1px rgba(60, 64, 67, 0.15);\n",
              "      fill: #174EA6;\n",
              "    }\n",
              "\n",
              "    .colab-df-buttons div {\n",
              "      margin-bottom: 4px;\n",
              "    }\n",
              "\n",
              "    [theme=dark] .colab-df-convert {\n",
              "      background-color: #3B4455;\n",
              "      fill: #D2E3FC;\n",
              "    }\n",
              "\n",
              "    [theme=dark] .colab-df-convert:hover {\n",
              "      background-color: #434B5C;\n",
              "      box-shadow: 0px 1px 3px 1px rgba(0, 0, 0, 0.15);\n",
              "      filter: drop-shadow(0px 1px 2px rgba(0, 0, 0, 0.3));\n",
              "      fill: #FFFFFF;\n",
              "    }\n",
              "  </style>\n",
              "\n",
              "    <script>\n",
              "      const buttonEl =\n",
              "        document.querySelector('#df-cdbbc7ce-c5f5-4c8e-827d-9a8c723941df button.colab-df-convert');\n",
              "      buttonEl.style.display =\n",
              "        google.colab.kernel.accessAllowed ? 'block' : 'none';\n",
              "\n",
              "      async function convertToInteractive(key) {\n",
              "        const element = document.querySelector('#df-cdbbc7ce-c5f5-4c8e-827d-9a8c723941df');\n",
              "        const dataTable =\n",
              "          await google.colab.kernel.invokeFunction('convertToInteractive',\n",
              "                                                    [key], {});\n",
              "        if (!dataTable) return;\n",
              "\n",
              "        const docLinkHtml = 'Like what you see? Visit the ' +\n",
              "          '<a target=\"_blank\" href=https://colab.research.google.com/notebooks/data_table.ipynb>data table notebook</a>'\n",
              "          + ' to learn more about interactive tables.';\n",
              "        element.innerHTML = '';\n",
              "        dataTable['output_type'] = 'display_data';\n",
              "        await google.colab.output.renderOutput(dataTable, element);\n",
              "        const docLink = document.createElement('div');\n",
              "        docLink.innerHTML = docLinkHtml;\n",
              "        element.appendChild(docLink);\n",
              "      }\n",
              "    </script>\n",
              "  </div>\n",
              "\n",
              "\n",
              "<div id=\"df-ec7c64dd-b7bc-43aa-96d8-5f77b5bdd1c8\">\n",
              "  <button class=\"colab-df-quickchart\" onclick=\"quickchart('df-ec7c64dd-b7bc-43aa-96d8-5f77b5bdd1c8')\"\n",
              "            title=\"Suggest charts.\"\n",
              "            style=\"display:none;\">\n",
              "\n",
              "<svg xmlns=\"http://www.w3.org/2000/svg\" height=\"24px\"viewBox=\"0 0 24 24\"\n",
              "     width=\"24px\">\n",
              "    <g>\n",
              "        <path d=\"M19 3H5c-1.1 0-2 .9-2 2v14c0 1.1.9 2 2 2h14c1.1 0 2-.9 2-2V5c0-1.1-.9-2-2-2zM9 17H7v-7h2v7zm4 0h-2V7h2v10zm4 0h-2v-4h2v4z\"/>\n",
              "    </g>\n",
              "</svg>\n",
              "  </button>\n",
              "\n",
              "<style>\n",
              "  .colab-df-quickchart {\n",
              "    background-color: #E8F0FE;\n",
              "    border: none;\n",
              "    border-radius: 50%;\n",
              "    cursor: pointer;\n",
              "    display: none;\n",
              "    fill: #1967D2;\n",
              "    height: 32px;\n",
              "    padding: 0 0 0 0;\n",
              "    width: 32px;\n",
              "  }\n",
              "\n",
              "  .colab-df-quickchart:hover {\n",
              "    background-color: #E2EBFA;\n",
              "    box-shadow: 0px 1px 2px rgba(60, 64, 67, 0.3), 0px 1px 3px 1px rgba(60, 64, 67, 0.15);\n",
              "    fill: #174EA6;\n",
              "  }\n",
              "\n",
              "  [theme=dark] .colab-df-quickchart {\n",
              "    background-color: #3B4455;\n",
              "    fill: #D2E3FC;\n",
              "  }\n",
              "\n",
              "  [theme=dark] .colab-df-quickchart:hover {\n",
              "    background-color: #434B5C;\n",
              "    box-shadow: 0px 1px 3px 1px rgba(0, 0, 0, 0.15);\n",
              "    filter: drop-shadow(0px 1px 2px rgba(0, 0, 0, 0.3));\n",
              "    fill: #FFFFFF;\n",
              "  }\n",
              "</style>\n",
              "\n",
              "  <script>\n",
              "    async function quickchart(key) {\n",
              "      const charts = await google.colab.kernel.invokeFunction(\n",
              "          'suggestCharts', [key], {});\n",
              "    }\n",
              "    (() => {\n",
              "      let quickchartButtonEl =\n",
              "        document.querySelector('#df-ec7c64dd-b7bc-43aa-96d8-5f77b5bdd1c8 button');\n",
              "      quickchartButtonEl.style.display =\n",
              "        google.colab.kernel.accessAllowed ? 'block' : 'none';\n",
              "    })();\n",
              "  </script>\n",
              "</div>\n",
              "    </div>\n",
              "  </div>\n"
            ]
          },
          "metadata": {},
          "execution_count": 3
        }
      ]
    },
    {
      "cell_type": "code",
      "source": [
        "df.shape"
      ],
      "metadata": {
        "colab": {
          "base_uri": "https://localhost:8080/"
        },
        "id": "1CURLiftzkAW",
        "outputId": "eec9abc9-648f-44c9-904a-d4da8d557be5"
      },
      "execution_count": null,
      "outputs": [
        {
          "output_type": "execute_result",
          "data": {
            "text/plain": [
              "(42000, 785)"
            ]
          },
          "metadata": {},
          "execution_count": 66
        }
      ]
    },
    {
      "cell_type": "code",
      "source": [
        "df['label'].value_counts()"
      ],
      "metadata": {
        "colab": {
          "base_uri": "https://localhost:8080/"
        },
        "id": "TyVzNtn5zqTm",
        "outputId": "0040d6ed-9de5-47ce-f8b9-bc5d195822e7"
      },
      "execution_count": null,
      "outputs": [
        {
          "output_type": "execute_result",
          "data": {
            "text/plain": [
              "1    4684\n",
              "7    4401\n",
              "3    4351\n",
              "9    4188\n",
              "2    4177\n",
              "6    4137\n",
              "0    4132\n",
              "4    4072\n",
              "8    4063\n",
              "5    3795\n",
              "Name: label, dtype: int64"
            ]
          },
          "metadata": {},
          "execution_count": 67
        }
      ]
    },
    {
      "cell_type": "code",
      "source": [
        "import seaborn as sns\n",
        "sns.countplot(x='label', data=df)"
      ],
      "metadata": {
        "colab": {
          "base_uri": "https://localhost:8080/",
          "height": 466
        },
        "id": "_0-E3dWWzvJI",
        "outputId": "079471d0-d95a-41de-e6f5-23e11659175d"
      },
      "execution_count": null,
      "outputs": [
        {
          "output_type": "execute_result",
          "data": {
            "text/plain": [
              "<Axes: xlabel='label', ylabel='count'>"
            ]
          },
          "metadata": {},
          "execution_count": 68
        },
        {
          "output_type": "display_data",
          "data": {
            "text/plain": [
              "<Figure size 640x480 with 1 Axes>"
            ],
            "image/png": "[encoded data removed]"
          },
          "metadata": {}
        }
      ]
    },
    {
      "cell_type": "markdown",
      "source": [
        "# Working with numpy"
      ],
      "metadata": {
        "id": "t5f_pTwWz74f"
      }
    },
    {
      "cell_type": "code",
      "source": [
        "data = np.array(df)\n",
        "data[:10], data.shape"
      ],
      "metadata": {
        "colab": {
          "base_uri": "https://localhost:8080/"
        },
        "id": "xbp3ChFr0CJp",
        "outputId": "dcd618f3-78df-4f20-ed9f-1f3bbadfdff2"
      },
      "execution_count": null,
      "outputs": [
        {
          "output_type": "execute_result",
          "data": {
            "text/plain": [
              "(array([[1, 0, 0, ..., 0, 0, 0],\n",
              "        [0, 0, 0, ..., 0, 0, 0],\n",
              "        [1, 0, 0, ..., 0, 0, 0],\n",
              "        ...,\n",
              "        [3, 0, 0, ..., 0, 0, 0],\n",
              "        [5, 0, 0, ..., 0, 0, 0],\n",
              "        [3, 0, 0, ..., 0, 0, 0]]),\n",
              " (42000, 785))"
            ]
          },
          "metadata": {},
          "execution_count": 4
        }
      ]
    },
    {
      "cell_type": "code",
      "source": [
        "# shuffling our data\n",
        "m, n = data.shape\n",
        "np.random.shuffle(data)"
      ],
      "metadata": {
        "id": "yl5x5dNU0IiO"
      },
      "execution_count": null,
      "outputs": []
    },
    {
      "cell_type": "code",
      "source": [
        "# Get the first 1000 samples for validation\n",
        "data_dev = data[0:1000].T\n",
        "\n",
        "X_dev = data_dev[1:n]\n",
        "y_dev = data_dev[0]"
      ],
      "metadata": {
        "id": "-Ykcb6F000vx"
      },
      "execution_count": null,
      "outputs": []
    },
    {
      "cell_type": "code",
      "source": [
        "# Get the remaining samples for training\n",
        "data_train = data[1000:m].T\n",
        "\n",
        "X_train = data_train[1:n]\n",
        "y_train = data_train[0]"
      ],
      "metadata": {
        "id": "XbTuO6BJ1p4H"
      },
      "execution_count": null,
      "outputs": []
    },
    {
      "cell_type": "code",
      "source": [
        "X_train[:,1].shape"
      ],
      "metadata": {
        "colab": {
          "base_uri": "https://localhost:8080/"
        },
        "id": "qhati-Ac10Y2",
        "outputId": "863aad2e-ca65-4d31-e36a-adf2933b3f78"
      },
      "execution_count": null,
      "outputs": [
        {
          "output_type": "execute_result",
          "data": {
            "text/plain": [
              "(784,)"
            ]
          },
          "metadata": {},
          "execution_count": 47
        }
      ]
    },
    {
      "cell_type": "code",
      "source": [
        "def init_params():\n",
        "  W1 = np.random.randn(10,784) - 0.5  # creates an array of shape (10,784) with random values (between -1 and 1 in this case)\n",
        "  b1 = np.random.randn(10,1) - 0.5\n",
        "  W2 = np.random.randn(10,10) - 0.5  # creates an array of shape (10,784) with random values (between -1 and 1 in this case)\n",
        "  b2 = np.random.randn(10,1) - 0.5\n",
        "  return W1, b1, W2, b2"
      ],
      "metadata": {
        "id": "hklzI2tE2CR4"
      },
      "execution_count": null,
      "outputs": []
    },
    {
      "cell_type": "code",
      "source": [
        "def ReLU(X):\n",
        "  return np.maximum(0,X)"
      ],
      "metadata": {
        "id": "JDankHx44EXN"
      },
      "execution_count": null,
      "outputs": []
    },
    {
      "cell_type": "code",
      "source": [
        "def softmax(X):\n",
        "  return np.exp(X) / np.sum(np.exp(X))"
      ],
      "metadata": {
        "id": "Y67rK1-K4yCk"
      },
      "execution_count": null,
      "outputs": []
    },
    {
      "cell_type": "code",
      "source": [
        "def forward_prop(W1, b1, W2, b2, X):\n",
        "    Z1 = W1.dot(X) + b1\n",
        "    A1 = ReLU(Z1)\n",
        "    Z2 = W2.dot(A1) + b2\n",
        "    A2 = softmax(Z2)\n",
        "    return Z1, A1, Z2, A2"
      ],
      "metadata": {
        "id": "ODJ3p14k2p4g"
      },
      "execution_count": null,
      "outputs": []
    },
    {
      "cell_type": "code",
      "source": [
        "def one_hot(Y):\n",
        "  one_hot_Y = np.zeros((Y.size, Y.max()+1))  # Y.max() would be 9\n",
        "  one_hot_Y[np.arange(Y.size), Y] =1\n",
        "  return one_hot_Y.T"
      ],
      "metadata": {
        "id": "aFHryuTn6Fno"
      },
      "execution_count": null,
      "outputs": []
    },
    {
      "cell_type": "code",
      "source": [
        "def deriv_ReLU(x):\n",
        "  return x>0"
      ],
      "metadata": {
        "id": "5xqxbSMv8hkL"
      },
      "execution_count": null,
      "outputs": []
    },
    {
      "cell_type": "code",
      "source": [
        "def backward_prop(Z1, A1, Z2, A2, W2, X, Y):\n",
        "    one_hot_Y = one_hot(Y)\n",
        "    dZ2 = A2 - one_hot_Y\n",
        "    dW2 = 1 / m * dZ2.dot(A1.T)\n",
        "    db2 = 1 / m * np.sum(dZ2)\n",
        "\n",
        "    dZ1 = W2.T.dot(dZ2) * deriv_ReLU(Z1)\n",
        "    dW1 = 1 / m * dZ1.dot(X.T)\n",
        "    db1 = 1 / m * np.sum(dZ1)\n",
        "    return dW1, db1, dW2, db2"
      ],
      "metadata": {
        "id": "rWNkhWea5U1T"
      },
      "execution_count": null,
      "outputs": []
    },
    {
      "cell_type": "code",
      "source": [
        "def update_params(W1, b1, W2, b2, dW1, db1, dW2, db2, alpha):\n",
        "  W1 = W1 - alpha * dW1\n",
        "  b1 = b1 - alpha * db1\n",
        "  W2 = W2 - alpha * dW2\n",
        "  b2 = b2 - alpha * db2\n",
        "  return W1, b1, W2, b2"
      ],
      "metadata": {
        "id": "Q-sLG8CX9LD4"
      },
      "execution_count": null,
      "outputs": []
    },
    {
      "cell_type": "code",
      "source": [
        "def get_predictions(A2):\n",
        "    return np.argmax(A2, 0)\n",
        "\n",
        "def get_accuracy(predictions, Y):\n",
        "    print(predictions, Y)\n",
        "    return np.sum(predictions == Y) / Y.size"
      ],
      "metadata": {
        "id": "9VinVPnT_w_q"
      },
      "execution_count": null,
      "outputs": []
    },
    {
      "cell_type": "code",
      "source": [
        "def gradient_descent(X, Y, alpha, iterations):\n",
        "    W1, b1, W2, b2 = init_params()\n",
        "    for i in range(iterations):\n",
        "        Z1, A1, Z2, A2 = forward_prop(W1, b1, W2, b2, X)\n",
        "        dW1, db1, dW2, db2 = backward_prop(Z1, A1, Z2, A2, W2, X, Y)\n",
        "        W1, b1, W2, b2 = update_params(W1, b1, W2, b2, dW1, db1, dW2, db2, alpha)\n",
        "        if i % 10 == 0:\n",
        "            print(\"Iteration: \", i)\n",
        "            predictions = get_predictions(A2)\n",
        "            print(get_accuracy(predictions, Y))\n",
        "    return W1, b1, W2, b2"
      ],
      "metadata": {
        "id": "-OYmHkIH9tr-"
      },
      "execution_count": null,
      "outputs": []
    },
    {
      "cell_type": "code",
      "source": [
        "data = np.array(data)\n",
        "m, n = data.shape\n",
        "np.random.shuffle(data) # shuffle before splitting into dev and training sets\n",
        "\n",
        "data_dev = data[0:1000].T\n",
        "Y_dev = data_dev[0]\n",
        "X_dev = data_dev[1:n]\n",
        "X_dev = X_dev / 255.\n",
        "\n",
        "data_train = data[1000:m].T\n",
        "Y_train = data_train[0]\n",
        "X_train = data_train[1:n]\n",
        "X_train = X_train / 255.\n",
        "\n",
        "def init_params():\n",
        "    W1 = np.random.rand(10, 784) - 0.5\n",
        "    b1 = np.random.rand(10, 1) - 0.5\n",
        "    W2 = np.random.rand(10, 10) - 0.5\n",
        "    b2 = np.random.rand(10, 1) - 0.5\n",
        "    return W1, b1, W2, b2\n",
        "\n",
        "def ReLU(Z):\n",
        "    return np.maximum(Z, 0)\n",
        "\n",
        "def softmax(Z):\n",
        "    A = np.exp(Z) / sum(np.exp(Z))\n",
        "    return A\n",
        "\n",
        "def forward_prop(W1, b1, W2, b2, X):\n",
        "    Z1 = W1.dot(X) + b1\n",
        "    A1 = ReLU(Z1)\n",
        "    Z2 = W2.dot(A1) + b2\n",
        "    A2 = softmax(Z2)\n",
        "    return Z1, A1, Z2, A2\n",
        "\n",
        "def ReLU_deriv(Z):\n",
        "    return Z > 0\n",
        "\n",
        "def one_hot(Y):\n",
        "    one_hot_Y = np.zeros((Y.size, Y.max() + 1))\n",
        "    one_hot_Y[np.arange(Y.size), Y] = 1\n",
        "    one_hot_Y = one_hot_Y.T\n",
        "    return one_hot_Y\n",
        "\n",
        "def backward_prop(Z1, A1, Z2, A2, W1, W2, X, Y):\n",
        "    one_hot_Y = one_hot(Y)\n",
        "    dZ2 = A2 - one_hot_Y\n",
        "    dW2 = 1 / m * dZ2.dot(A1.T)\n",
        "    db2 = 1 / m * np.sum(dZ2)\n",
        "    dZ1 = W2.T.dot(dZ2) * ReLU_deriv(Z1)\n",
        "    dW1 = 1 / m * dZ1.dot(X.T)\n",
        "    db1 = 1 / m * np.sum(dZ1)\n",
        "    return dW1, db1, dW2, db2\n",
        "\n",
        "def update_params(W1, b1, W2, b2, dW1, db1, dW2, db2, alpha):\n",
        "    W1 = W1 - alpha * dW1\n",
        "    b1 = b1 - alpha * db1\n",
        "    W2 = W2 - alpha * dW2\n",
        "    b2 = b2 - alpha * db2\n",
        "    return W1, b1, W2, b2\n",
        "\n",
        "def get_predictions(A2):\n",
        "    return np.argmax(A2, 0)\n",
        "\n",
        "def get_accuracy(predictions, Y):\n",
        "    print(predictions, Y)\n",
        "    return np.sum(predictions == Y) / Y.size\n",
        "\n",
        "def gradient_descent(X, Y, alpha, iterations):\n",
        "    W1, b1, W2, b2 = init_params()\n",
        "    for i in range(iterations):\n",
        "        Z1, A1, Z2, A2 = forward_prop(W1, b1, W2, b2, X)\n",
        "        dW1, db1, dW2, db2 = backward_prop(Z1, A1, Z2, A2, W1, W2, X, Y)\n",
        "        W1, b1, W2, b2 = update_params(W1, b1, W2, b2, dW1, db1, dW2, db2, alpha)\n",
        "        if i % 10 == 0:\n",
        "            print(\"Iteration: \", i)\n",
        "            predictions = get_predictions(A2)\n",
        "            print(get_accuracy(predictions, Y))\n",
        "    return W1, b1, W2, b2\n"
      ],
      "metadata": {
        "id": "IYTasv5CGW_A"
      },
      "execution_count": null,
      "outputs": []
    },
    {
      "cell_type": "code",
      "source": [
        "%time\n",
        "W1, b1, W2, b2 = gradient_descent(X_train, Y_train, 0.1, 500)"
      ],
      "metadata": {
        "colab": {
          "base_uri": "https://localhost:8080/"
        },
        "id": "wl2g7ZrM_h8W",
        "outputId": "25319d78-299a-43e2-c38c-f15cc0a18dbb"
      },
      "execution_count": null,
      "outputs": [
        {
          "output_type": "stream",
          "name": "stdout",
          "text": [
            "CPU times: user 3 µs, sys: 0 ns, total: 3 µs\n",
            "Wall time: 6.44 µs\n",
            "Iteration:  0\n",
            "[0 0 8 ... 0 0 8] [7 0 0 ... 2 6 7]\n",
            "0.10117073170731708\n",
            "Iteration:  10\n",
            "[3 0 4 ... 0 2 8] [7 0 0 ... 2 6 7]\n",
            "0.19617073170731708\n",
            "Iteration:  20\n",
            "[3 0 4 ... 7 2 7] [7 0 0 ... 2 6 7]\n",
            "0.3012439024390244\n",
            "Iteration:  30\n",
            "[7 0 8 ... 7 2 7] [7 0 0 ... 2 6 7]\n",
            "0.38695121951219513\n",
            "Iteration:  40\n",
            "[7 0 8 ... 7 2 7] [7 0 0 ... 2 6 7]\n",
            "0.4475609756097561\n",
            "Iteration:  50\n",
            "[7 0 8 ... 7 6 7] [7 0 0 ... 2 6 7]\n",
            "0.4929268292682927\n",
            "Iteration:  60\n",
            "[7 0 0 ... 7 6 7] [7 0 0 ... 2 6 7]\n",
            "0.5294878048780488\n",
            "Iteration:  70\n",
            "[7 0 0 ... 7 2 7] [7 0 0 ... 2 6 7]\n",
            "0.5619512195121952\n",
            "Iteration:  80\n",
            "[7 0 0 ... 7 2 7] [7 0 0 ... 2 6 7]\n",
            "0.5936341463414634\n",
            "Iteration:  90\n",
            "[7 0 0 ... 7 2 7] [7 0 0 ... 2 6 7]\n",
            "0.6204390243902439\n",
            "Iteration:  100\n",
            "[7 0 0 ... 7 2 7] [7 0 0 ... 2 6 7]\n",
            "0.645\n",
            "Iteration:  110\n",
            "[7 0 0 ... 7 2 7] [7 0 0 ... 2 6 7]\n",
            "0.6647560975609756\n",
            "Iteration:  120\n",
            "[7 0 0 ... 7 2 7] [7 0 0 ... 2 6 7]\n",
            "0.6815853658536586\n",
            "Iteration:  130\n",
            "[7 0 0 ... 7 2 7] [7 0 0 ... 2 6 7]\n",
            "0.6952195121951219\n",
            "Iteration:  140\n",
            "[7 0 0 ... 7 2 7] [7 0 0 ... 2 6 7]\n",
            "0.7068048780487804\n",
            "Iteration:  150\n",
            "[7 0 0 ... 7 2 7] [7 0 0 ... 2 6 7]\n",
            "0.7174390243902439\n",
            "Iteration:  160\n",
            "[7 0 0 ... 7 2 7] [7 0 0 ... 2 6 7]\n",
            "0.7270731707317073\n",
            "Iteration:  170\n",
            "[7 0 0 ... 7 2 7] [7 0 0 ... 2 6 7]\n",
            "0.7361219512195122\n",
            "Iteration:  180\n",
            "[7 0 0 ... 7 2 7] [7 0 0 ... 2 6 7]\n",
            "0.7446341463414634\n",
            "Iteration:  190\n",
            "[7 0 0 ... 7 2 7] [7 0 0 ... 2 6 7]\n",
            "0.7518048780487805\n",
            "Iteration:  200\n",
            "[7 0 0 ... 7 2 7] [7 0 0 ... 2 6 7]\n",
            "0.7589268292682927\n",
            "Iteration:  210\n",
            "[7 0 0 ... 7 2 7] [7 0 0 ... 2 6 7]\n",
            "0.765609756097561\n",
            "Iteration:  220\n",
            "[7 0 0 ... 7 2 7] [7 0 0 ... 2 6 7]\n",
            "0.7707560975609756\n",
            "Iteration:  230\n",
            "[7 0 0 ... 7 2 7] [7 0 0 ... 2 6 7]\n",
            "0.7759024390243903\n",
            "Iteration:  240\n",
            "[7 0 0 ... 7 2 7] [7 0 0 ... 2 6 7]\n",
            "0.7808536585365854\n",
            "Iteration:  250\n",
            "[7 0 0 ... 7 2 7] [7 0 0 ... 2 6 7]\n",
            "0.7854146341463415\n",
            "Iteration:  260\n",
            "[7 0 0 ... 7 2 7] [7 0 0 ... 2 6 7]\n",
            "0.7898536585365854\n",
            "Iteration:  270\n",
            "[7 0 0 ... 7 2 7] [7 0 0 ... 2 6 7]\n",
            "0.7941951219512196\n",
            "Iteration:  280\n",
            "[7 0 0 ... 7 2 7] [7 0 0 ... 2 6 7]\n",
            "0.7977560975609757\n",
            "Iteration:  290\n",
            "[7 0 0 ... 7 2 7] [7 0 0 ... 2 6 7]\n",
            "0.8006829268292683\n",
            "Iteration:  300\n",
            "[7 0 0 ... 2 2 7] [7 0 0 ... 2 6 7]\n",
            "0.8040975609756098\n",
            "Iteration:  310\n",
            "[7 0 0 ... 2 2 7] [7 0 0 ... 2 6 7]\n",
            "0.8068048780487805\n",
            "Iteration:  320\n",
            "[7 0 0 ... 2 2 7] [7 0 0 ... 2 6 7]\n",
            "0.8099024390243903\n",
            "Iteration:  330\n",
            "[7 0 0 ... 2 2 7] [7 0 0 ... 2 6 7]\n",
            "0.8126585365853658\n",
            "Iteration:  340\n",
            "[7 0 0 ... 2 2 7] [7 0 0 ... 2 6 7]\n",
            "0.8149512195121951\n",
            "Iteration:  350\n",
            "[7 0 0 ... 2 2 7] [7 0 0 ... 2 6 7]\n",
            "0.8173170731707317\n",
            "Iteration:  360\n",
            "[7 0 0 ... 2 2 7] [7 0 0 ... 2 6 7]\n",
            "0.819560975609756\n",
            "Iteration:  370\n",
            "[7 0 0 ... 2 2 7] [7 0 0 ... 2 6 7]\n",
            "0.8217073170731707\n",
            "Iteration:  380\n",
            "[7 0 0 ... 2 2 7] [7 0 0 ... 2 6 7]\n",
            "0.823780487804878\n",
            "Iteration:  390\n",
            "[7 0 0 ... 2 2 7] [7 0 0 ... 2 6 7]\n",
            "0.8256341463414634\n",
            "Iteration:  400\n",
            "[7 0 0 ... 2 2 7] [7 0 0 ... 2 6 7]\n",
            "0.8273170731707317\n",
            "Iteration:  410\n",
            "[7 0 0 ... 2 2 7] [7 0 0 ... 2 6 7]\n",
            "0.8292682926829268\n",
            "Iteration:  420\n",
            "[7 0 0 ... 2 2 7] [7 0 0 ... 2 6 7]\n",
            "0.8314634146341463\n",
            "Iteration:  430\n",
            "[7 0 0 ... 2 2 7] [7 0 0 ... 2 6 7]\n",
            "0.832780487804878\n",
            "Iteration:  440\n",
            "[7 0 0 ... 2 2 7] [7 0 0 ... 2 6 7]\n",
            "0.8341951219512195\n",
            "Iteration:  450\n",
            "[7 0 0 ... 2 2 7] [7 0 0 ... 2 6 7]\n",
            "0.8355609756097561\n",
            "Iteration:  460\n",
            "[7 0 0 ... 2 2 7] [7 0 0 ... 2 6 7]\n",
            "0.8368536585365853\n",
            "Iteration:  470\n",
            "[7 0 0 ... 2 2 7] [7 0 0 ... 2 6 7]\n",
            "0.8379268292682926\n",
            "Iteration:  480\n",
            "[7 0 0 ... 2 2 7] [7 0 0 ... 2 6 7]\n",
            "0.8392195121951219\n",
            "Iteration:  490\n",
            "[7 0 0 ... 2 2 7] [7 0 0 ... 2 6 7]\n",
            "0.8407317073170731\n"
          ]
        }
      ]
    },
    {
      "cell_type": "code",
      "source": [],
      "metadata": {
        "id": "_zvMYI8TExw4"
      },
      "execution_count": null,
      "outputs": []
    }
  ]
}