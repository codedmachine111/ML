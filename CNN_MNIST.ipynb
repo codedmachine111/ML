{
  "nbformat": 4,
  "nbformat_minor": 0,
  "metadata": {
    "colab": {
      "provenance": [],
      "gpuType": "T4",
      "authorship_tag": "ABX9TyPaXLPqQjGrBgf4Jj7Y8WRQ",
      "include_colab_link": true
    },
    "kernelspec": {
      "name": "python3",
      "display_name": "Python 3"
    },
    "language_info": {
      "name": "python"
    },
    "accelerator": "GPU"
  },
  "cells": [
    {
      "cell_type": "markdown",
      "metadata": {
        "id": "view-in-github",
        "colab_type": "text"
      },
      "source": [
        "<a href=\"https://colab.research.google.com/github/codedmachine111/ML/blob/master/CNN_MNIST.ipynb\" target=\"_parent\"><img src=\"https://colab.research.google.com/assets/colab-badge.svg\" alt=\"Open In Colab\"/></a>"
      ]
    },
    {
      "cell_type": "markdown",
      "source": [
        "# Building a CNN for MNIST Dataset"
      ],
      "metadata": {
        "id": "kvqGh9QtDisn"
      }
    },
    {
      "cell_type": "code",
      "execution_count": 1,
      "metadata": {
        "id": "YsIuxsTUrYQM"
      },
      "outputs": [],
      "source": [
        "import tensorflow as tf\n",
        "import numpy as np\n",
        "import matplotlib.pyplot as plt\n",
        "import seaborn as sns"
      ]
    },
    {
      "cell_type": "code",
      "source": [
        "mnist = tf.keras.datasets.mnist\n",
        "(X_train, y_train), (X_test, y_test) = mnist.load_data()\n",
        "\n",
        "X_train.shape, y_train.shape, X_test.shape, y_test.shape"
      ],
      "metadata": {
        "colab": {
          "base_uri": "https://localhost:8080/"
        },
        "id": "obRlDirFtyP_",
        "outputId": "0a85ddda-d509-4ddf-c924-bcbc811bc2a4"
      },
      "execution_count": 2,
      "outputs": [
        {
          "output_type": "stream",
          "name": "stdout",
          "text": [
            "Downloading data from https://storage.googleapis.com/tensorflow/tf-keras-datasets/mnist.npz\n",
            "11490434/11490434 [==============================] - 0s 0us/step\n"
          ]
        },
        {
          "output_type": "execute_result",
          "data": {
            "text/plain": [
              "((60000, 28, 28), (60000,), (10000, 28, 28), (10000,))"
            ]
          },
          "metadata": {},
          "execution_count": 2
        }
      ]
    },
    {
      "cell_type": "code",
      "source": [
        "fig,axes = plt.subplots(1,9,figsize=(20,10))\n",
        "for i in range(9):\n",
        "  axes[i].imshow(X_train[i])"
      ],
      "metadata": {
        "colab": {
          "base_uri": "https://localhost:8080/",
          "height": 229
        },
        "id": "S3ahkjxOuaNF",
        "outputId": "7197c0f3-e848-4c26-a684-fab2a8a60e22"
      },
      "execution_count": 73,
      "outputs": [
        {
          "output_type": "display_data",
          "data": {
            "text/plain": [
              "<Figure size 2000x1000 with 9 Axes>"
            ],
            "image/png": "[encoded data removed]"
          },
          "metadata": {}
        }
      ]
    },
    {
      "cell_type": "code",
      "source": [
        "sns.countplot(x=y_train)"
      ],
      "metadata": {
        "colab": {
          "base_uri": "https://localhost:8080/",
          "height": 448
        },
        "id": "IOnZIvMnx9HP",
        "outputId": "ae35192f-255c-4db0-cc61-b8fb5292eb46"
      },
      "execution_count": 4,
      "outputs": [
        {
          "output_type": "execute_result",
          "data": {
            "text/plain": [
              "<Axes: ylabel='count'>"
            ]
          },
          "metadata": {},
          "execution_count": 4
        },
        {
          "output_type": "display_data",
          "data": {
            "text/plain": [
              "<Figure size 640x480 with 1 Axes>"
            ],
            "image/png": "[encoded data removed]"
          },
          "metadata": {}
        }
      ]
    },
    {
      "cell_type": "code",
      "source": [
        "# Normalizing to [0,1]\n",
        "X_train = X_train/255.0\n",
        "X_test = X_test/255.0"
      ],
      "metadata": {
        "id": "k_FKR1FgwQYw"
      },
      "execution_count": 5,
      "outputs": []
    },
    {
      "cell_type": "code",
      "source": [
        "# Reshaping\n",
        "\n",
        "input_shape = (28,28,1)\n",
        "\n",
        "X_train = X_train.reshape(X_train.shape[0],X_train.shape[1],X_train.shape[2],1)\n",
        "X_test = X_test.reshape(X_test.shape[0],X_test.shape[1],X_test.shape[2],1)"
      ],
      "metadata": {
        "id": "RlCpelFGziUj"
      },
      "execution_count": 6,
      "outputs": []
    },
    {
      "cell_type": "code",
      "source": [
        "X_train.shape, X_test.shape"
      ],
      "metadata": {
        "colab": {
          "base_uri": "https://localhost:8080/"
        },
        "id": "qBrhyyzDz6OD",
        "outputId": "5c5c475d-ca04-48c8-bc0a-9d61868ba2e6"
      },
      "execution_count": 7,
      "outputs": [
        {
          "output_type": "execute_result",
          "data": {
            "text/plain": [
              "((60000, 28, 28, 1), (10000, 28, 28, 1))"
            ]
          },
          "metadata": {},
          "execution_count": 7
        }
      ]
    },
    {
      "cell_type": "code",
      "source": [
        "# Encoding the labels\n",
        "\n",
        "y_train = tf.one_hot(y_train.astype(np.int32), depth=10)\n",
        "y_test = tf.one_hot(y_test.astype(np.int32), depth=10)\n",
        "\n",
        "y_train.shape, y_test.shape"
      ],
      "metadata": {
        "colab": {
          "base_uri": "https://localhost:8080/"
        },
        "id": "7TAxzlU0z8YN",
        "outputId": "29db4102-74f9-4c36-9e0c-001b9de413de"
      },
      "execution_count": 8,
      "outputs": [
        {
          "output_type": "execute_result",
          "data": {
            "text/plain": [
              "(TensorShape([60000, 10]), TensorShape([10000, 10]))"
            ]
          },
          "metadata": {},
          "execution_count": 8
        }
      ]
    },
    {
      "cell_type": "code",
      "source": [
        "y_train[:10]"
      ],
      "metadata": {
        "colab": {
          "base_uri": "https://localhost:8080/"
        },
        "id": "qRJLmX1o0ZJY",
        "outputId": "2ef69d1e-fa8d-414f-aa3e-7e7382452a91"
      },
      "execution_count": 9,
      "outputs": [
        {
          "output_type": "execute_result",
          "data": {
            "text/plain": [
              "<tf.Tensor: shape=(10, 10), dtype=float32, numpy=\n",
              "array([[0., 0., 0., 0., 0., 1., 0., 0., 0., 0.],\n",
              "       [1., 0., 0., 0., 0., 0., 0., 0., 0., 0.],\n",
              "       [0., 0., 0., 0., 1., 0., 0., 0., 0., 0.],\n",
              "       [0., 1., 0., 0., 0., 0., 0., 0., 0., 0.],\n",
              "       [0., 0., 0., 0., 0., 0., 0., 0., 0., 1.],\n",
              "       [0., 0., 1., 0., 0., 0., 0., 0., 0., 0.],\n",
              "       [0., 1., 0., 0., 0., 0., 0., 0., 0., 0.],\n",
              "       [0., 0., 0., 1., 0., 0., 0., 0., 0., 0.],\n",
              "       [0., 1., 0., 0., 0., 0., 0., 0., 0., 0.],\n",
              "       [0., 0., 0., 0., 1., 0., 0., 0., 0., 0.]], dtype=float32)>"
            ]
          },
          "metadata": {},
          "execution_count": 9
        }
      ]
    },
    {
      "cell_type": "code",
      "source": [
        "plt.imshow(X_train[121])\n",
        "print(np.argmax(y_train[121]))"
      ],
      "metadata": {
        "colab": {
          "base_uri": "https://localhost:8080/",
          "height": 447
        },
        "id": "xfT5hwWq0bfK",
        "outputId": "cda82164-d73c-4c3e-d145-864b7c1f7f39"
      },
      "execution_count": 10,
      "outputs": [
        {
          "output_type": "stream",
          "name": "stdout",
          "text": [
            "0\n"
          ]
        },
        {
          "output_type": "display_data",
          "data": {
            "text/plain": [
              "<Figure size 640x480 with 1 Axes>"
            ],
            "image/png": "[encoded data removed]"
          },
          "metadata": {}
        }
      ]
    },
    {
      "cell_type": "markdown",
      "source": [
        "# Building a 2D CNN\n",
        "- ***Convolution Operation***: In the convolutional layers of a CNN, a set of learnable filters (also known as kernels) slide or \"convolve\" across the input image or the output of a previous layer. At each position of the convolution operation, the filter computes a weighted sum of the values in the local region of the input. This operation results in a single output value, which is placed in the corresponding position of the feature map.\n",
        "  - Feature maps are crucial because they capture different aspects of the input data as a result of the convolution operation with various filters. In deeper layers of the network, these feature maps become increasingly abstract and represent higher-level features, which are essential for tasks like image classification, object detection, and segmentation. The CNN learns to recognize patterns and features that are relevant for the specific task it's trained on by adjusting the filter weights during training through backpropagation.\n",
        "  \n",
        "- ***Multiple Filters***: Typically, a layer in a CNN will use multiple filters simultaneously. Each filter is responsible for detecting different patterns or features in the input, such as edges, corners, textures, or more complex structures.\n",
        "\n",
        "- ***Depth***: The collection of feature maps generated by applying multiple filters to the same input is often referred to as the \"depth\" of the layer. For example, if you apply 32 different filters to an input image, you'll produce 32 feature maps in that layer.\n",
        "\n",
        "- ***Activation Function***: After computing the weighted sum for each position, an activation function (commonly ReLU or another non-linear function) is applied element-wise to introduce non-linearity and increase the network's expressive power.\n",
        "\n",
        "- ***Downsampling***: In many CNN architectures, after convolution, feature maps may undergo operations like pooling or striding to reduce their spatial dimensions, which helps in reducing the number of parameters and computational complexity."
      ],
      "metadata": {
        "id": "C6yaDy_A1iZY"
      }
    },
    {
      "cell_type": "code",
      "source": [
        "from tensorflow.keras import Sequential\n",
        "from tensorflow.keras.layers import Conv2D, MaxPool2D, Dropout, Dense, Flatten"
      ],
      "metadata": {
        "id": "HhVIQwPc18hJ"
      },
      "execution_count": 11,
      "outputs": []
    },
    {
      "cell_type": "code",
      "source": [
        "model = Sequential()\n",
        "\n",
        "# INPUT LAYER\n",
        "model.add(Conv2D(filters=32, kernel_size=(5,5), padding='same', activation='relu', input_shape=input_shape))\n",
        "model.add(Conv2D(filters=32, kernel_size=(5,5), padding='same', activation='relu'))\n",
        "\n",
        "model.add(MaxPool2D(strides=(1,1))) # It means that the pooling window moves one unit (pixel) at a time.\n",
        "model.add(Dropout(rate=0.25))\n",
        "\n",
        "# HIDDEN LAYER\n",
        "model.add(Conv2D(filters=64, kernel_size=(3,3), padding='same', activation='relu'))\n",
        "model.add(Conv2D(filters=64, kernel_size=(3,3), padding='same', activation='relu'))\n",
        "model.add(MaxPool2D(strides=(2,2)))\n",
        "model.add(Dropout(rate=0.25))\n",
        "\n",
        "model.add(Flatten())\n",
        "# OUTPUT LAYER\n",
        "model.add(Dense(units=128,activation='relu')) #  Each unit or neuron in a Dense layer is connected to every neuron in the previous layer.\n",
        "model.add(Dropout(rate=0.5))\n",
        "model.add(Dense(units=10, activation='softmax'))"
      ],
      "metadata": {
        "id": "XG3eNGcJ2YXx"
      },
      "execution_count": 12,
      "outputs": []
    },
    {
      "cell_type": "code",
      "source": [
        "# Compile the model\n",
        "\n",
        "# Optimizers are algorithms used in training deep neural networks to update the model's parameters (weights and biases)\n",
        "# during the training process. Their primary goal is to minimize\n",
        "# the loss function by adjusting the model's parameters in a way that makes the model's predictions more accurate.\n",
        "\n",
        "model.compile(optimizer=tf.keras.optimizers.RMSprop(epsilon=1e-08), loss='categorical_crossentropy', metrics=['acc'])\n",
        "model.summary()"
      ],
      "metadata": {
        "colab": {
          "base_uri": "https://localhost:8080/"
        },
        "id": "5NMFryYg6Vao",
        "outputId": "8ebcfc92-225d-42be-c300-51811145aec9"
      },
      "execution_count": 38,
      "outputs": [
        {
          "output_type": "stream",
          "name": "stdout",
          "text": [
            "Model: \"sequential\"\n",
            "_________________________________________________________________\n",
            " Layer (type)                Output Shape              Param #   \n",
            "=================================================================\n",
            " conv2d (Conv2D)             (None, 28, 28, 32)        832       \n",
            "                                                                 \n",
            " conv2d_1 (Conv2D)           (None, 28, 28, 32)        25632     \n",
            "                                                                 \n",
            " max_pooling2d (MaxPooling2D  (None, 27, 27, 32)       0         \n",
            " )                                                               \n",
            "                                                                 \n",
            " dropout (Dropout)           (None, 27, 27, 32)        0         \n",
            "                                                                 \n",
            " conv2d_2 (Conv2D)           (None, 27, 27, 64)        18496     \n",
            "                                                                 \n",
            " conv2d_3 (Conv2D)           (None, 27, 27, 64)        36928     \n",
            "                                                                 \n",
            " max_pooling2d_1 (MaxPooling  (None, 13, 13, 64)       0         \n",
            " 2D)                                                             \n",
            "                                                                 \n",
            " dropout_1 (Dropout)         (None, 13, 13, 64)        0         \n",
            "                                                                 \n",
            " flatten (Flatten)           (None, 10816)             0         \n",
            "                                                                 \n",
            " dense (Dense)               (None, 128)               1384576   \n",
            "                                                                 \n",
            " dropout_2 (Dropout)         (None, 128)               0         \n",
            "                                                                 \n",
            " dense_1 (Dense)             (None, 10)                1290      \n",
            "                                                                 \n",
            "=================================================================\n",
            "Total params: 1,467,754\n",
            "Trainable params: 1,467,754\n",
            "Non-trainable params: 0\n",
            "_________________________________________________________________\n"
          ]
        }
      ]
    },
    {
      "cell_type": "code",
      "source": [
        "# Callbacks after training on each epoch\n",
        "early_stopping = tf.keras.callbacks.EarlyStopping(monitor='val_accuracy', patience=3)"
      ],
      "metadata": {
        "id": "FK0vfCPG7y7y"
      },
      "execution_count": 14,
      "outputs": []
    },
    {
      "cell_type": "code",
      "source": [
        "# Fit the training data\n",
        "epochs = 10\n",
        "batch_size=64\n",
        "\n",
        "history = model.fit(X_train, y_train, validation_split=0.1, epochs=epochs, batch_size=batch_size, callbacks=[early_stopping])"
      ],
      "metadata": {
        "colab": {
          "base_uri": "https://localhost:8080/"
        },
        "id": "ifPUX9m57IRa",
        "outputId": "77025a7b-acf7-4801-e40e-683de46e6d42"
      },
      "execution_count": 15,
      "outputs": [
        {
          "output_type": "stream",
          "name": "stdout",
          "text": [
            "Epoch 1/10\n",
            "844/844 [==============================] - ETA: 0s - loss: 0.2010 - acc: 0.9387"
          ]
        },
        {
          "output_type": "stream",
          "name": "stderr",
          "text": [
            "WARNING:tensorflow:Early stopping conditioned on metric `val_accuracy` which is not available. Available metrics are: loss,acc,val_loss,val_acc\n"
          ]
        },
        {
          "output_type": "stream",
          "name": "stdout",
          "text": [
            "\b\b\b\b\b\b\b\b\b\b\b\b\b\b\b\b\b\b\b\b\b\b\b\b\b\b\b\b\b\b\b\b\b\b\b\b\b\b\b\b\b\b\b\b\b\b\b\b\b\b\b\b\b\b\b\b\b\b\b\b\b\b\b\b\b\b\b\b\b\b\b\b\b\b\b\b\b\b\b\r844/844 [==============================] - 26s 13ms/step - loss: 0.2010 - acc: 0.9387 - val_loss: 0.0494 - val_acc: 0.9857\n",
            "Epoch 2/10\n",
            "844/844 [==============================] - ETA: 0s - loss: 0.0743 - acc: 0.9789"
          ]
        },
        {
          "output_type": "stream",
          "name": "stderr",
          "text": [
            "WARNING:tensorflow:Early stopping conditioned on metric `val_accuracy` which is not available. Available metrics are: loss,acc,val_loss,val_acc\n"
          ]
        },
        {
          "output_type": "stream",
          "name": "stdout",
          "text": [
            "\b\b\b\b\b\b\b\b\b\b\b\b\b\b\b\b\b\b\b\b\b\b\b\b\b\b\b\b\b\b\b\b\b\b\b\b\b\b\b\b\b\b\b\b\b\b\b\b\b\b\b\b\b\b\b\b\b\b\b\b\b\b\b\b\b\b\b\b\b\b\b\b\b\b\b\b\b\b\b\r844/844 [==============================] - 11s 13ms/step - loss: 0.0743 - acc: 0.9789 - val_loss: 0.0411 - val_acc: 0.9898\n",
            "Epoch 3/10\n",
            "844/844 [==============================] - ETA: 0s - loss: 0.0586 - acc: 0.9836"
          ]
        },
        {
          "output_type": "stream",
          "name": "stderr",
          "text": [
            "WARNING:tensorflow:Early stopping conditioned on metric `val_accuracy` which is not available. Available metrics are: loss,acc,val_loss,val_acc\n"
          ]
        },
        {
          "output_type": "stream",
          "name": "stdout",
          "text": [
            "\b\b\b\b\b\b\b\b\b\b\b\b\b\b\b\b\b\b\b\b\b\b\b\b\b\b\b\b\b\b\b\b\b\b\b\b\b\b\b\b\b\b\b\b\b\b\b\b\b\b\b\b\b\b\b\b\b\b\b\b\b\b\b\b\b\b\b\b\b\b\b\b\b\b\b\b\b\b\b\r844/844 [==============================] - 11s 13ms/step - loss: 0.0586 - acc: 0.9836 - val_loss: 0.0456 - val_acc: 0.9880\n",
            "Epoch 4/10\n",
            "843/844 [============================>.] - ETA: 0s - loss: 0.0519 - acc: 0.9853"
          ]
        },
        {
          "output_type": "stream",
          "name": "stderr",
          "text": [
            "WARNING:tensorflow:Early stopping conditioned on metric `val_accuracy` which is not available. Available metrics are: loss,acc,val_loss,val_acc\n"
          ]
        },
        {
          "output_type": "stream",
          "name": "stdout",
          "text": [
            "\b\b\b\b\b\b\b\b\b\b\b\b\b\b\b\b\b\b\b\b\b\b\b\b\b\b\b\b\b\b\b\b\b\b\b\b\b\b\b\b\b\b\b\b\b\b\b\b\b\b\b\b\b\b\b\b\b\b\b\b\b\b\b\b\b\b\b\b\b\b\b\b\b\b\b\b\b\b\b\r844/844 [==============================] - 11s 13ms/step - loss: 0.0519 - acc: 0.9853 - val_loss: 0.0345 - val_acc: 0.9910\n",
            "Epoch 5/10\n",
            "842/844 [============================>.] - ETA: 0s - loss: 0.0529 - acc: 0.9857"
          ]
        },
        {
          "output_type": "stream",
          "name": "stderr",
          "text": [
            "WARNING:tensorflow:Early stopping conditioned on metric `val_accuracy` which is not available. Available metrics are: loss,acc,val_loss,val_acc\n"
          ]
        },
        {
          "output_type": "stream",
          "name": "stdout",
          "text": [
            "\b\b\b\b\b\b\b\b\b\b\b\b\b\b\b\b\b\b\b\b\b\b\b\b\b\b\b\b\b\b\b\b\b\b\b\b\b\b\b\b\b\b\b\b\b\b\b\b\b\b\b\b\b\b\b\b\b\b\b\b\b\b\b\b\b\b\b\b\b\b\b\b\b\b\b\b\b\b\b\r844/844 [==============================] - 12s 14ms/step - loss: 0.0529 - acc: 0.9857 - val_loss: 0.0380 - val_acc: 0.9887\n",
            "Epoch 6/10\n",
            "840/844 [============================>.] - ETA: 0s - loss: 0.0494 - acc: 0.9870"
          ]
        },
        {
          "output_type": "stream",
          "name": "stderr",
          "text": [
            "WARNING:tensorflow:Early stopping conditioned on metric `val_accuracy` which is not available. Available metrics are: loss,acc,val_loss,val_acc\n"
          ]
        },
        {
          "output_type": "stream",
          "name": "stdout",
          "text": [
            "\b\b\b\b\b\b\b\b\b\b\b\b\b\b\b\b\b\b\b\b\b\b\b\b\b\b\b\b\b\b\b\b\b\b\b\b\b\b\b\b\b\b\b\b\b\b\b\b\b\b\b\b\b\b\b\b\b\b\b\b\b\b\b\b\b\b\b\b\b\b\b\b\b\b\b\b\b\b\b\r844/844 [==============================] - 11s 13ms/step - loss: 0.0497 - acc: 0.9870 - val_loss: 0.0347 - val_acc: 0.9918\n",
            "Epoch 7/10\n",
            "840/844 [============================>.] - ETA: 0s - loss: 0.0539 - acc: 0.9860"
          ]
        },
        {
          "output_type": "stream",
          "name": "stderr",
          "text": [
            "WARNING:tensorflow:Early stopping conditioned on metric `val_accuracy` which is not available. Available metrics are: loss,acc,val_loss,val_acc\n"
          ]
        },
        {
          "output_type": "stream",
          "name": "stdout",
          "text": [
            "\b\b\b\b\b\b\b\b\b\b\b\b\b\b\b\b\b\b\b\b\b\b\b\b\b\b\b\b\b\b\b\b\b\b\b\b\b\b\b\b\b\b\b\b\b\b\b\b\b\b\b\b\b\b\b\b\b\b\b\b\b\b\b\b\b\b\b\b\b\b\b\b\b\b\b\b\b\b\b\r844/844 [==============================] - 11s 13ms/step - loss: 0.0537 - acc: 0.9860 - val_loss: 0.0392 - val_acc: 0.9918\n",
            "Epoch 8/10\n",
            "841/844 [============================>.] - ETA: 0s - loss: 0.0549 - acc: 0.9857"
          ]
        },
        {
          "output_type": "stream",
          "name": "stderr",
          "text": [
            "WARNING:tensorflow:Early stopping conditioned on metric `val_accuracy` which is not available. Available metrics are: loss,acc,val_loss,val_acc\n"
          ]
        },
        {
          "output_type": "stream",
          "name": "stdout",
          "text": [
            "\b\b\b\b\b\b\b\b\b\b\b\b\b\b\b\b\b\b\b\b\b\b\b\b\b\b\b\b\b\b\b\b\b\b\b\b\b\b\b\b\b\b\b\b\b\b\b\b\b\b\b\b\b\b\b\b\b\b\b\b\b\b\b\b\b\b\b\b\b\b\b\b\b\b\b\b\b\b\b\r844/844 [==============================] - 11s 13ms/step - loss: 0.0547 - acc: 0.9857 - val_loss: 0.0427 - val_acc: 0.9923\n",
            "Epoch 9/10\n",
            "843/844 [============================>.] - ETA: 0s - loss: 0.0560 - acc: 0.9867"
          ]
        },
        {
          "output_type": "stream",
          "name": "stderr",
          "text": [
            "WARNING:tensorflow:Early stopping conditioned on metric `val_accuracy` which is not available. Available metrics are: loss,acc,val_loss,val_acc\n"
          ]
        },
        {
          "output_type": "stream",
          "name": "stdout",
          "text": [
            "\b\b\b\b\b\b\b\b\b\b\b\b\b\b\b\b\b\b\b\b\b\b\b\b\b\b\b\b\b\b\b\b\b\b\b\b\b\b\b\b\b\b\b\b\b\b\b\b\b\b\b\b\b\b\b\b\b\b\b\b\b\b\b\b\b\b\b\b\b\b\b\b\b\b\b\b\b\b\b\r844/844 [==============================] - 11s 13ms/step - loss: 0.0560 - acc: 0.9867 - val_loss: 0.0483 - val_acc: 0.9872\n",
            "Epoch 10/10\n",
            "841/844 [============================>.] - ETA: 0s - loss: 0.0562 - acc: 0.9867"
          ]
        },
        {
          "output_type": "stream",
          "name": "stderr",
          "text": [
            "WARNING:tensorflow:Early stopping conditioned on metric `val_accuracy` which is not available. Available metrics are: loss,acc,val_loss,val_acc\n"
          ]
        },
        {
          "output_type": "stream",
          "name": "stdout",
          "text": [
            "\b\b\b\b\b\b\b\b\b\b\b\b\b\b\b\b\b\b\b\b\b\b\b\b\b\b\b\b\b\b\b\b\b\b\b\b\b\b\b\b\b\b\b\b\b\b\b\b\b\b\b\b\b\b\b\b\b\b\b\b\b\b\b\b\b\b\b\b\b\b\b\b\b\b\b\b\b\b\b\r844/844 [==============================] - 11s 13ms/step - loss: 0.0562 - acc: 0.9867 - val_loss: 0.0499 - val_acc: 0.9897\n"
          ]
        }
      ]
    },
    {
      "cell_type": "code",
      "source": [
        "history.history"
      ],
      "metadata": {
        "colab": {
          "base_uri": "https://localhost:8080/"
        },
        "id": "pI9quIjy-U4i",
        "outputId": "1e679a0d-d0ba-4aef-a220-93949c9624d8"
      },
      "execution_count": 26,
      "outputs": [
        {
          "output_type": "execute_result",
          "data": {
            "text/plain": [
              "{'loss': [0.2010166347026825,\n",
              "  0.07431390136480331,\n",
              "  0.05864498391747475,\n",
              "  0.0518856979906559,\n",
              "  0.0529460646212101,\n",
              "  0.04968217387795448,\n",
              "  0.05371251702308655,\n",
              "  0.05469707399606705,\n",
              "  0.05595660209655762,\n",
              "  0.056234072893857956],\n",
              " 'acc': [0.9387221932411194,\n",
              "  0.978851854801178,\n",
              "  0.9836296439170837,\n",
              "  0.9852777719497681,\n",
              "  0.9857222437858582,\n",
              "  0.9869999885559082,\n",
              "  0.9860185384750366,\n",
              "  0.9857407212257385,\n",
              "  0.9867036938667297,\n",
              "  0.9866666793823242],\n",
              " 'val_loss': [0.04937496408820152,\n",
              "  0.04111082851886749,\n",
              "  0.04556455463171005,\n",
              "  0.03454812243580818,\n",
              "  0.037950120866298676,\n",
              "  0.0346873514354229,\n",
              "  0.039221279323101044,\n",
              "  0.04267660528421402,\n",
              "  0.04830798879265785,\n",
              "  0.04989461600780487],\n",
              " 'val_acc': [0.9856666922569275,\n",
              "  0.9898333549499512,\n",
              "  0.9879999756813049,\n",
              "  0.9909999966621399,\n",
              "  0.9886666536331177,\n",
              "  0.9918333292007446,\n",
              "  0.9918333292007446,\n",
              "  0.9923333525657654,\n",
              "  0.9871666431427002,\n",
              "  0.9896666407585144]}"
            ]
          },
          "metadata": {},
          "execution_count": 26
        }
      ]
    },
    {
      "cell_type": "markdown",
      "source": [
        "## Visualizing results"
      ],
      "metadata": {
        "id": "I2FhfrT08Z-c"
      }
    },
    {
      "cell_type": "code",
      "source": [
        "fig, axes = plt.subplots(1,2, figsize=(15,4))\n",
        "\n",
        "# Plotting accuracy of training vs validation\n",
        "axes[0].plot(history.history['acc'], label='Training accuracy', color='blue')\n",
        "axes[0].plot(history.history['val_acc'], label='Validation accuracy', color='red')\n",
        "axes[0].set_title('Accuracy')\n",
        "legend = axes[0].legend(loc='best')\n",
        "\n",
        "# Plotting loss of training vs validation\n",
        "axes[1].plot(history.history['loss'], label='Training loss', color='blue')\n",
        "axes[1].plot(history.history['val_loss'], label='Validation loss', color='red')\n",
        "axes[1].set_title('Loss')\n",
        "legend = axes[1].legend(loc='best')"
      ],
      "metadata": {
        "colab": {
          "base_uri": "https://localhost:8080/",
          "height": 381
        },
        "id": "VvV3Mw2J9ewx",
        "outputId": "cfe5ec3b-2a70-45a2-f1e0-50d9a5b4f7bc"
      },
      "execution_count": 36,
      "outputs": [
        {
          "output_type": "display_data",
          "data": {
            "text/plain": [
              "<Figure size 1500x400 with 2 Axes>"
            ],
            "image/png": "[encoded data removed]"
          },
          "metadata": {}
        }
      ]
    },
    {
      "cell_type": "code",
      "source": [
        "# Saving the trained model\n",
        "\n",
        "model.save('./mnist-model')"
      ],
      "metadata": {
        "colab": {
          "base_uri": "https://localhost:8080/"
        },
        "id": "Rhp6T37s9k4Y",
        "outputId": "0048af42-93b6-4b81-b519-a34501afdc46"
      },
      "execution_count": 37,
      "outputs": [
        {
          "output_type": "stream",
          "name": "stderr",
          "text": [
            "WARNING:absl:Found untraced functions such as _jit_compiled_convolution_op, _jit_compiled_convolution_op, _jit_compiled_convolution_op, _jit_compiled_convolution_op while saving (showing 4 of 4). These functions will not be directly callable after loading.\n"
          ]
        }
      ]
    },
    {
      "cell_type": "code",
      "source": [
        "# Check the model on testing data\n",
        "\n",
        "loss, acc = model.evaluate(X_test, y_test)\n",
        "loss, acc"
      ],
      "metadata": {
        "colab": {
          "base_uri": "https://localhost:8080/"
        },
        "id": "vsUZdiQ9_x5_",
        "outputId": "93a360a5-7404-4ce0-a404-792b5e570267"
      },
      "execution_count": 40,
      "outputs": [
        {
          "output_type": "stream",
          "name": "stdout",
          "text": [
            "313/313 [==============================] - 2s 4ms/step - loss: 0.0430 - acc: 0.9891\n"
          ]
        },
        {
          "output_type": "execute_result",
          "data": {
            "text/plain": [
              "(0.04296600818634033, 0.9890999794006348)"
            ]
          },
          "metadata": {},
          "execution_count": 40
        }
      ]
    },
    {
      "cell_type": "markdown",
      "source": [
        "- Around 98.9% accuracy achieved on test images"
      ],
      "metadata": {
        "id": "TMt2bAkTAeB8"
      }
    },
    {
      "cell_type": "code",
      "source": [
        "# Visualizing the predictions\n",
        "\n",
        "y_preds = model.predict(X_test)\n",
        "y_preds"
      ],
      "metadata": {
        "colab": {
          "base_uri": "https://localhost:8080/"
        },
        "id": "jIr2LuurAUPG",
        "outputId": "27af9609-d7aa-40f0-8241-358b5fdcdb6a"
      },
      "execution_count": 46,
      "outputs": [
        {
          "output_type": "stream",
          "name": "stdout",
          "text": [
            "313/313 [==============================] - 1s 2ms/step\n"
          ]
        },
        {
          "output_type": "execute_result",
          "data": {
            "text/plain": [
              "array([[2.9404293e-16, 2.2925707e-15, 3.8298605e-12, ..., 1.0000000e+00,\n",
              "        1.8622549e-15, 4.8945369e-11],\n",
              "       [1.7917111e-09, 3.8594072e-11, 1.0000000e+00, ..., 1.2869802e-11,\n",
              "        7.9468637e-10, 4.8460280e-15],\n",
              "       [3.6500294e-22, 1.0000000e+00, 1.1871251e-17, ..., 2.6079779e-17,\n",
              "        3.5153267e-17, 9.1910964e-22],\n",
              "       ...,\n",
              "       [2.1236185e-28, 3.0957464e-20, 5.3948670e-22, ..., 3.3344809e-19,\n",
              "        7.6711412e-20, 7.2626246e-17],\n",
              "       [6.3507608e-13, 1.9711682e-16, 7.1755483e-17, ..., 4.4009986e-13,\n",
              "        3.6617609e-09, 1.4022848e-10],\n",
              "       [6.2406952e-10, 2.2371677e-14, 9.5171301e-12, ..., 7.3762309e-18,\n",
              "        3.8758227e-10, 1.1475989e-16]], dtype=float32)"
            ]
          },
          "metadata": {},
          "execution_count": 46
        }
      ]
    },
    {
      "cell_type": "code",
      "source": [
        "# Converting the predictions to labels\n",
        "y_preds = np.argmax(y_preds, axis=1)\n",
        "y_preds[:10], y_preds.shape"
      ],
      "metadata": {
        "colab": {
          "base_uri": "https://localhost:8080/"
        },
        "id": "Nb0XprRyBLfb",
        "outputId": "c0a315e6-189a-407a-fad1-96b475230799"
      },
      "execution_count": 47,
      "outputs": [
        {
          "output_type": "execute_result",
          "data": {
            "text/plain": [
              "(array([7, 2, 1, 0, 4, 1, 4, 9, 5, 9]), (10000,))"
            ]
          },
          "metadata": {},
          "execution_count": 47
        }
      ]
    },
    {
      "cell_type": "code",
      "source": [
        "# Converting the test data into labels\n",
        "y_test = np.argmax(y_test, axis=1)\n",
        "y_test[:10], y_test.shape"
      ],
      "metadata": {
        "colab": {
          "base_uri": "https://localhost:8080/"
        },
        "id": "lRDnO9jxBeSu",
        "outputId": "44665d85-3605-4c92-96e2-c3ca5169496c"
      },
      "execution_count": 49,
      "outputs": [
        {
          "output_type": "execute_result",
          "data": {
            "text/plain": [
              "(array([7, 2, 1, 0, 4, 1, 4, 9, 5, 9]), (10000,))"
            ]
          },
          "metadata": {},
          "execution_count": 49
        }
      ]
    },
    {
      "cell_type": "code",
      "source": [
        "from tensorflow.math import confusion_matrix\n",
        "\n",
        "plt.figure(figsize=(6,5))\n",
        "cm = confusion_matrix(y_test, y_preds)\n",
        "sns.heatmap(cm, annot=True, fmt='d', cmap='magma')\n",
        "\n",
        "plt.xlabel('Predicted labels')\n",
        "plt.ylabel('Actual labels')\n",
        "plt.title('Confusion matrix');"
      ],
      "metadata": {
        "colab": {
          "base_uri": "https://localhost:8080/",
          "height": 487
        },
        "id": "ky1LZE7rAyCD",
        "outputId": "6b18762f-e069-4ff7-d393-386695ffd628"
      },
      "execution_count": 65,
      "outputs": [
        {
          "output_type": "display_data",
          "data": {
            "text/plain": [
              "<Figure size 600x500 with 2 Axes>"
            ],
            "image/png": "[encoded data removed]"
          },
          "metadata": {}
        }
      ]
    }
  ]
}